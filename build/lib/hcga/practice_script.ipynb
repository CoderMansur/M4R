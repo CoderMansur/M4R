{
 "cells": [
  {
   "cell_type": "code",
   "execution_count": 1,
   "metadata": {},
   "outputs": [],
   "source": [
    "import networkx as nx\n",
    "import numpy as np\n",
    "import matplotlib.pyplot as plt\n",
    "import pandas as pd\n",
    "\n",
    "\n"
   ]
  },
  {
   "cell_type": "code",
   "execution_count": 2,
   "metadata": {},
   "outputs": [
    {
     "name": "stderr",
     "output_type": "stream",
     "text": [
      "\r",
      "  0%|          | 0/30 [00:00<?, ?it/s]"
     ]
    },
    {
     "name": "stdout",
     "output_type": "stream",
     "text": [
      "Graph 12 is not connected. Taking largest subgraph and relabelling the nodes.\n",
      "Running file basic_stats [0/20].\n",
      "Running file clustering [1/20].\n",
      "Running file centrality_degree [2/20].\n",
      "Running file centrality_degree [3/20].\n",
      "Running file centrality_degree [4/20].\n",
      "Running file centrality_eigenvector [5/20].\n",
      "Running file centrality_eigenvector [6/20].\n",
      "Running file centrality_eigenvector [7/20].\n",
      "Running file communities_modularity [8/20].\n",
      "Running file node_connectivity [9/20].\n",
      "Running file vitality [10/20].\n",
      "Running file structural_holes [11/20].\n",
      "Running file scale_free [12/20].\n",
      "Running file small_worldness [13/20].\n",
      "Running file shortest_paths [14/20].\n",
      "Running file rich_club [15/20].\n",
      "Running file centrality_force [16/20].\n"
     ]
    },
    {
     "name": "stderr",
     "output_type": "stream",
     "text": [
      "\r",
      "  3%|▎         | 1/30 [00:05<02:40,  5.54s/it]"
     ]
    },
    {
     "name": "stdout",
     "output_type": "stream",
     "text": [
      "Running file communities_bisection [17/20].\n",
      "Running file communities_asyn_fluid [18/20].\n",
      "Running file communities_label_propagation [19/20].\n",
      "Running file basic_stats [0/20].\n",
      "Running file clustering [1/20].\n",
      "Running file centrality_degree [2/20].\n",
      "Running file centrality_degree [3/20].\n",
      "Running file centrality_degree [4/20].\n",
      "Running file centrality_eigenvector [5/20].\n",
      "Running file centrality_eigenvector [6/20].\n",
      "Running file centrality_eigenvector [7/20].\n",
      "Running file communities_modularity [8/20].\n",
      "Running file node_connectivity [9/20].\n",
      "Running file vitality [10/20].\n",
      "Running file structural_holes [11/20].\n",
      "Running file scale_free [12/20].\n",
      "Running file small_worldness [13/20].\n",
      "Running file shortest_paths [14/20].\n",
      "Running file rich_club [15/20].\n",
      "Running file centrality_force [16/20].\n"
     ]
    },
    {
     "name": "stderr",
     "output_type": "stream",
     "text": [
      "\r",
      "  7%|▋         | 2/30 [00:08<02:13,  4.75s/it]"
     ]
    },
    {
     "name": "stdout",
     "output_type": "stream",
     "text": [
      "Running file communities_bisection [17/20].\n",
      "Running file communities_asyn_fluid [18/20].\n",
      "Running file communities_label_propagation [19/20].\n",
      "Running file basic_stats [0/20].\n",
      "Running file clustering [1/20].\n",
      "Running file centrality_degree [2/20].\n",
      "Running file centrality_degree [3/20].\n",
      "Running file centrality_degree [4/20].\n",
      "Running file centrality_eigenvector [5/20].\n",
      "Running file centrality_eigenvector [6/20].\n",
      "Running file centrality_eigenvector [7/20].\n",
      "Running file communities_modularity [8/20].\n",
      "Running file node_connectivity [9/20].\n",
      "Running file vitality [10/20].\n",
      "Running file structural_holes [11/20].\n",
      "Running file scale_free [12/20].\n",
      "Running file small_worldness [13/20].\n",
      "Running file shortest_paths [14/20].\n",
      "Running file rich_club [15/20].\n",
      "Running file centrality_force [16/20].\n"
     ]
    },
    {
     "name": "stderr",
     "output_type": "stream",
     "text": [
      "\r",
      " 10%|█         | 3/30 [00:14<02:21,  5.25s/it]"
     ]
    },
    {
     "name": "stdout",
     "output_type": "stream",
     "text": [
      "Running file communities_bisection [17/20].\n",
      "Running file communities_asyn_fluid [18/20].\n",
      "Running file communities_label_propagation [19/20].\n",
      "Running file basic_stats [0/20].\n",
      "Running file clustering [1/20].\n",
      "Running file centrality_degree [2/20].\n",
      "Running file centrality_degree [3/20].\n",
      "Running file centrality_degree [4/20].\n",
      "Running file centrality_eigenvector [5/20].\n",
      "Running file centrality_eigenvector [6/20].\n",
      "Running file centrality_eigenvector [7/20].\n",
      "Running file communities_modularity [8/20].\n",
      "Running file node_connectivity [9/20].\n",
      "Running file vitality [10/20].\n",
      "Running file structural_holes [11/20].\n",
      "Running file scale_free [12/20].\n",
      "Running file small_worldness [13/20].\n",
      "Running file shortest_paths [14/20].\n",
      "Running file rich_club [15/20].\n",
      "Running file centrality_force [16/20].\n"
     ]
    },
    {
     "name": "stderr",
     "output_type": "stream",
     "text": [
      "\r",
      " 13%|█▎        | 4/30 [00:20<02:19,  5.38s/it]"
     ]
    },
    {
     "name": "stdout",
     "output_type": "stream",
     "text": [
      "Running file communities_bisection [17/20].\n",
      "Running file communities_asyn_fluid [18/20].\n",
      "Running file communities_label_propagation [19/20].\n",
      "Running file basic_stats [0/20].\n",
      "Running file clustering [1/20].\n",
      "Running file centrality_degree [2/20].\n",
      "Running file centrality_degree [3/20].\n",
      "Running file centrality_degree [4/20].\n",
      "Running file centrality_eigenvector [5/20].\n",
      "Running file centrality_eigenvector [6/20].\n",
      "Running file centrality_eigenvector [7/20].\n",
      "Running file communities_modularity [8/20].\n",
      "Running file node_connectivity [9/20].\n",
      "Running file vitality [10/20].\n",
      "Running file structural_holes [11/20].\n",
      "Running file scale_free [12/20].\n",
      "Running file small_worldness [13/20].\n",
      "Running file shortest_paths [14/20].\n",
      "Running file rich_club [15/20].\n",
      "Running file centrality_force [16/20].\n",
      "Running file communities_bisection [17/20].\n",
      "Running file communities_asyn_fluid [18/20].\n",
      "Running file communities_label_propagation [19/20].\n"
     ]
    },
    {
     "name": "stderr",
     "output_type": "stream",
     "text": [
      "\r",
      " 17%|█▋        | 5/30 [00:27<02:27,  5.90s/it]"
     ]
    },
    {
     "name": "stdout",
     "output_type": "stream",
     "text": [
      "Running file basic_stats [0/20].\n",
      "Running file clustering [1/20].\n",
      "Running file centrality_degree [2/20].\n",
      "Running file centrality_degree [3/20].\n",
      "Running file centrality_degree [4/20].\n",
      "Running file centrality_eigenvector [5/20].\n",
      "Running file centrality_eigenvector [6/20].\n",
      "Running file centrality_eigenvector [7/20].\n",
      "Running file communities_modularity [8/20].\n",
      "Running file node_connectivity [9/20].\n",
      "Running file vitality [10/20].\n",
      "Running file structural_holes [11/20].\n",
      "Running file scale_free [12/20].\n",
      "Running file small_worldness [13/20].\n",
      "Running file shortest_paths [14/20].\n",
      "Running file rich_club [15/20].\n",
      "Running file centrality_force [16/20].\n"
     ]
    },
    {
     "name": "stderr",
     "output_type": "stream",
     "text": [
      "\r",
      " 20%|██        | 6/30 [00:31<02:08,  5.36s/it]"
     ]
    },
    {
     "name": "stdout",
     "output_type": "stream",
     "text": [
      "Running file communities_bisection [17/20].\n",
      "Running file communities_asyn_fluid [18/20].\n",
      "Running file communities_label_propagation [19/20].\n",
      "Running file basic_stats [0/20].\n",
      "Running file clustering [1/20].\n",
      "Running file centrality_degree [2/20].\n",
      "Running file centrality_degree [3/20].\n",
      "Running file centrality_degree [4/20].\n",
      "Running file centrality_eigenvector [5/20].\n",
      "Running file centrality_eigenvector [6/20].\n",
      "Running file centrality_eigenvector [7/20].\n",
      "Running file communities_modularity [8/20].\n",
      "Running file node_connectivity [9/20].\n",
      "Running file vitality [10/20].\n",
      "Running file structural_holes [11/20].\n",
      "Running file scale_free [12/20].\n",
      "Running file small_worldness [13/20].\n",
      "Running file shortest_paths [14/20].\n",
      "Running file rich_club [15/20].\n",
      "Running file centrality_force [16/20].\n"
     ]
    },
    {
     "name": "stderr",
     "output_type": "stream",
     "text": [
      "\r",
      " 23%|██▎       | 7/30 [00:34<01:46,  4.65s/it]"
     ]
    },
    {
     "name": "stdout",
     "output_type": "stream",
     "text": [
      "Running file communities_bisection [17/20].\n",
      "Running file communities_asyn_fluid [18/20].\n",
      "Running file communities_label_propagation [19/20].\n",
      "Running file basic_stats [0/20].\n",
      "Running file clustering [1/20].\n",
      "Running file centrality_degree [2/20].\n",
      "Running file centrality_degree [3/20].\n",
      "Running file centrality_degree [4/20].\n",
      "Running file centrality_eigenvector [5/20].\n",
      "Running file centrality_eigenvector [6/20].\n",
      "Running file centrality_eigenvector [7/20].\n",
      "Running file communities_modularity [8/20].\n",
      "Running file node_connectivity [9/20].\n",
      "Running file vitality [10/20].\n",
      "Running file structural_holes [11/20].\n",
      "Running file scale_free [12/20].\n",
      "Running file small_worldness [13/20].\n",
      "Running file shortest_paths [14/20].\n",
      "Running file rich_club [15/20].\n",
      "Running file centrality_force [16/20].\n"
     ]
    },
    {
     "name": "stderr",
     "output_type": "stream",
     "text": [
      "\r",
      " 27%|██▋       | 8/30 [00:40<01:49,  4.98s/it]"
     ]
    },
    {
     "name": "stdout",
     "output_type": "stream",
     "text": [
      "Running file communities_bisection [17/20].\n",
      "Running file communities_asyn_fluid [18/20].\n",
      "Running file communities_label_propagation [19/20].\n",
      "Running file basic_stats [0/20].\n",
      "Running file clustering [1/20].\n",
      "Running file centrality_degree [2/20].\n",
      "Running file centrality_degree [3/20].\n",
      "Running file centrality_degree [4/20].\n",
      "Running file centrality_eigenvector [5/20].\n",
      "Running file centrality_eigenvector [6/20].\n",
      "Running file centrality_eigenvector [7/20].\n",
      "Running file communities_modularity [8/20].\n",
      "Running file node_connectivity [9/20].\n",
      "Running file vitality [10/20].\n",
      "Running file structural_holes [11/20].\n",
      "Running file scale_free [12/20].\n",
      "Running file small_worldness [13/20].\n",
      "Running file shortest_paths [14/20].\n",
      "Running file rich_club [15/20].\n",
      "Running file centrality_force [16/20].\n"
     ]
    },
    {
     "name": "stderr",
     "output_type": "stream",
     "text": [
      "\r",
      " 30%|███       | 9/30 [00:45<01:44,  4.97s/it]"
     ]
    },
    {
     "name": "stdout",
     "output_type": "stream",
     "text": [
      "Running file communities_bisection [17/20].\n",
      "Running file communities_asyn_fluid [18/20].\n",
      "Running file communities_label_propagation [19/20].\n",
      "Running file basic_stats [0/20].\n",
      "Running file clustering [1/20].\n",
      "Running file centrality_degree [2/20].\n",
      "Running file centrality_degree [3/20].\n",
      "Running file centrality_degree [4/20].\n",
      "Running file centrality_eigenvector [5/20].\n",
      "Running file centrality_eigenvector [6/20].\n",
      "Running file centrality_eigenvector [7/20].\n",
      "Running file communities_modularity [8/20].\n",
      "Running file node_connectivity [9/20].\n",
      "Running file vitality [10/20].\n",
      "Running file structural_holes [11/20].\n",
      "Running file scale_free [12/20].\n",
      "Running file small_worldness [13/20].\n",
      "Running file shortest_paths [14/20].\n",
      "Running file rich_club [15/20].\n",
      "Running file centrality_force [16/20].\n"
     ]
    },
    {
     "name": "stderr",
     "output_type": "stream",
     "text": [
      "\r",
      " 33%|███▎      | 10/30 [00:50<01:41,  5.07s/it]"
     ]
    },
    {
     "name": "stdout",
     "output_type": "stream",
     "text": [
      "Running file communities_bisection [17/20].\n",
      "Running file communities_asyn_fluid [18/20].\n",
      "Running file communities_label_propagation [19/20].\n",
      "Running file basic_stats [0/20].\n",
      "Running file clustering [1/20].\n",
      "Running file centrality_degree [2/20].\n",
      "Running file centrality_degree [3/20].\n",
      "Running file centrality_degree [4/20].\n",
      "Running file centrality_eigenvector [5/20].\n",
      "Running file centrality_eigenvector [6/20].\n",
      "Running file centrality_eigenvector [7/20].\n",
      "Running file communities_modularity [8/20].\n",
      "Running file node_connectivity [9/20].\n",
      "Running file vitality [10/20].\n",
      "Running file structural_holes [11/20].\n",
      "Running file scale_free [12/20].\n",
      "Running file small_worldness [13/20].\n",
      "Running file shortest_paths [14/20].\n",
      "Running file rich_club [15/20].\n",
      "Running file centrality_force [16/20].\n"
     ]
    },
    {
     "name": "stderr",
     "output_type": "stream",
     "text": [
      "\r",
      " 37%|███▋      | 11/30 [00:57<01:46,  5.62s/it]"
     ]
    },
    {
     "name": "stdout",
     "output_type": "stream",
     "text": [
      "Running file communities_bisection [17/20].\n",
      "Running file communities_asyn_fluid [18/20].\n",
      "Running file communities_label_propagation [19/20].\n",
      "Running file basic_stats [0/20].\n",
      "Running file clustering [1/20].\n",
      "Running file centrality_degree [2/20].\n",
      "Running file centrality_degree [3/20].\n",
      "Running file centrality_degree [4/20].\n",
      "Running file centrality_eigenvector [5/20].\n",
      "Running file centrality_eigenvector [6/20].\n",
      "Running file centrality_eigenvector [7/20].\n",
      "Running file communities_modularity [8/20].\n",
      "Running file node_connectivity [9/20].\n",
      "Running file vitality [10/20].\n",
      "Running file structural_holes [11/20].\n",
      "Running file scale_free [12/20].\n",
      "Running file small_worldness [13/20].\n",
      "Running file shortest_paths [14/20].\n",
      "Running file rich_club [15/20].\n",
      "Running file centrality_force [16/20].\n"
     ]
    },
    {
     "name": "stderr",
     "output_type": "stream",
     "text": [
      "\r",
      " 40%|████      | 12/30 [01:01<01:33,  5.18s/it]"
     ]
    },
    {
     "name": "stdout",
     "output_type": "stream",
     "text": [
      "Running file communities_bisection [17/20].\n",
      "Running file communities_asyn_fluid [18/20].\n",
      "Running file communities_label_propagation [19/20].\n",
      "Running file basic_stats [0/20].\n",
      "Running file clustering [1/20].\n",
      "Running file centrality_degree [2/20].\n",
      "Running file centrality_degree [3/20].\n",
      "Running file centrality_degree [4/20].\n",
      "Running file centrality_eigenvector [5/20].\n",
      "Running file centrality_eigenvector [6/20].\n",
      "Running file centrality_eigenvector [7/20].\n",
      "Running file communities_modularity [8/20].\n",
      "Running file node_connectivity [9/20].\n",
      "Running file vitality [10/20].\n",
      "Running file structural_holes [11/20].\n",
      "Running file scale_free [12/20].\n",
      "Running file small_worldness [13/20].\n",
      "Running file shortest_paths [14/20].\n",
      "Running file rich_club [15/20].\n",
      "Running file centrality_force [16/20].\n"
     ]
    },
    {
     "name": "stderr",
     "output_type": "stream",
     "text": [
      "\r",
      " 43%|████▎     | 13/30 [01:05<01:22,  4.87s/it]"
     ]
    },
    {
     "name": "stdout",
     "output_type": "stream",
     "text": [
      "Running file communities_bisection [17/20].\n",
      "Running file communities_asyn_fluid [18/20].\n",
      "Running file communities_label_propagation [19/20].\n",
      "Running file basic_stats [0/20].\n",
      "Running file clustering [1/20].\n",
      "Running file centrality_degree [2/20].\n",
      "Running file centrality_degree [3/20].\n",
      "Running file centrality_degree [4/20].\n",
      "Running file centrality_eigenvector [5/20].\n",
      "Running file centrality_eigenvector [6/20].\n",
      "Running file centrality_eigenvector [7/20].\n",
      "Running file communities_modularity [8/20].\n",
      "Running file node_connectivity [9/20].\n",
      "Running file vitality [10/20].\n",
      "Running file structural_holes [11/20].\n",
      "Running file scale_free [12/20].\n",
      "Running file small_worldness [13/20].\n",
      "Running file shortest_paths [14/20].\n",
      "Running file rich_club [15/20].\n",
      "Running file centrality_force [16/20].\n"
     ]
    },
    {
     "name": "stderr",
     "output_type": "stream",
     "text": [
      "\r",
      " 47%|████▋     | 14/30 [01:09<01:10,  4.42s/it]"
     ]
    },
    {
     "name": "stdout",
     "output_type": "stream",
     "text": [
      "Running file communities_bisection [17/20].\n",
      "Running file communities_asyn_fluid [18/20].\n",
      "Running file communities_label_propagation [19/20].\n",
      "Running file basic_stats [0/20].\n",
      "Running file clustering [1/20].\n",
      "Running file centrality_degree [2/20].\n",
      "Running file centrality_degree [3/20].\n",
      "Running file centrality_degree [4/20].\n",
      "Running file centrality_eigenvector [5/20].\n",
      "Running file centrality_eigenvector [6/20].\n",
      "Running file centrality_eigenvector [7/20].\n",
      "Running file communities_modularity [8/20].\n",
      "Running file node_connectivity [9/20].\n",
      "Running file vitality [10/20].\n",
      "Running file structural_holes [11/20].\n",
      "Running file scale_free [12/20].\n",
      "Running file small_worldness [13/20].\n",
      "Running file shortest_paths [14/20].\n",
      "Running file rich_club [15/20].\n",
      "Running file centrality_force [16/20].\n"
     ]
    },
    {
     "name": "stderr",
     "output_type": "stream",
     "text": [
      "\r",
      " 50%|█████     | 15/30 [01:12<01:01,  4.10s/it]"
     ]
    },
    {
     "name": "stdout",
     "output_type": "stream",
     "text": [
      "Running file communities_bisection [17/20].\n",
      "Running file communities_asyn_fluid [18/20].\n",
      "Running file communities_label_propagation [19/20].\n",
      "Running file basic_stats [0/20].\n",
      "Running file clustering [1/20].\n",
      "Running file centrality_degree [2/20].\n",
      "Running file centrality_degree [3/20].\n",
      "Running file centrality_degree [4/20].\n",
      "Running file centrality_eigenvector [5/20].\n",
      "Running file centrality_eigenvector [6/20].\n",
      "Running file centrality_eigenvector [7/20].\n",
      "Running file communities_modularity [8/20].\n",
      "Running file node_connectivity [9/20].\n",
      "Running file vitality [10/20].\n",
      "Running file structural_holes [11/20].\n",
      "Running file scale_free [12/20].\n",
      "Running file small_worldness [13/20].\n",
      "Running file shortest_paths [14/20].\n",
      "Running file rich_club [15/20].\n",
      "Running file centrality_force [16/20].\n"
     ]
    },
    {
     "name": "stderr",
     "output_type": "stream",
     "text": [
      "\r",
      " 53%|█████▎    | 16/30 [01:16<00:55,  3.94s/it]"
     ]
    },
    {
     "name": "stdout",
     "output_type": "stream",
     "text": [
      "Running file communities_bisection [17/20].\n",
      "Running file communities_asyn_fluid [18/20].\n",
      "Running file communities_label_propagation [19/20].\n",
      "Running file basic_stats [0/20].\n",
      "Running file clustering [1/20].\n",
      "Running file centrality_degree [2/20].\n",
      "Running file centrality_degree [3/20].\n",
      "Running file centrality_degree [4/20].\n",
      "Running file centrality_eigenvector [5/20].\n",
      "Running file centrality_eigenvector [6/20].\n",
      "Running file centrality_eigenvector [7/20].\n",
      "Running file communities_modularity [8/20].\n",
      "Running file node_connectivity [9/20].\n",
      "Running file vitality [10/20].\n",
      "Running file structural_holes [11/20].\n",
      "Running file scale_free [12/20].\n",
      "Running file small_worldness [13/20].\n",
      "Running file shortest_paths [14/20].\n",
      "Running file rich_club [15/20].\n",
      "Running file centrality_force [16/20].\n"
     ]
    },
    {
     "name": "stderr",
     "output_type": "stream",
     "text": [
      "\r",
      " 57%|█████▋    | 17/30 [01:19<00:49,  3.83s/it]"
     ]
    },
    {
     "name": "stdout",
     "output_type": "stream",
     "text": [
      "Running file communities_bisection [17/20].\n",
      "Running file communities_asyn_fluid [18/20].\n",
      "Running file communities_label_propagation [19/20].\n",
      "Running file basic_stats [0/20].\n",
      "Running file clustering [1/20].\n",
      "Running file centrality_degree [2/20].\n",
      "Running file centrality_degree [3/20].\n",
      "Running file centrality_degree [4/20].\n",
      "Running file centrality_eigenvector [5/20].\n",
      "Running file centrality_eigenvector [6/20].\n",
      "Running file centrality_eigenvector [7/20].\n",
      "Running file communities_modularity [8/20].\n",
      "Running file node_connectivity [9/20].\n",
      "Running file vitality [10/20].\n",
      "Running file structural_holes [11/20].\n",
      "Running file scale_free [12/20].\n",
      "Running file small_worldness [13/20].\n",
      "Running file shortest_paths [14/20].\n",
      "Running file rich_club [15/20].\n",
      "Running file centrality_force [16/20].\n",
      "Running file communities_bisection [17/20].\n",
      "Running file communities_asyn_fluid [18/20].\n",
      "Running file communities_label_propagation [19/20].\n"
     ]
    },
    {
     "name": "stderr",
     "output_type": "stream",
     "text": [
      "\r",
      " 60%|██████    | 18/30 [01:26<00:57,  4.81s/it]"
     ]
    },
    {
     "name": "stdout",
     "output_type": "stream",
     "text": [
      "Running file basic_stats [0/20].\n",
      "Running file clustering [1/20].\n",
      "Running file centrality_degree [2/20].\n",
      "Running file centrality_degree [3/20].\n",
      "Running file centrality_degree [4/20].\n",
      "Running file centrality_eigenvector [5/20].\n",
      "Running file centrality_eigenvector [6/20].\n",
      "Running file centrality_eigenvector [7/20].\n",
      "Running file communities_modularity [8/20].\n",
      "Running file node_connectivity [9/20].\n",
      "Running file vitality [10/20].\n",
      "Running file structural_holes [11/20].\n",
      "Running file scale_free [12/20].\n",
      "Running file small_worldness [13/20].\n",
      "Running file shortest_paths [14/20].\n",
      "Running file rich_club [15/20].\n",
      "Running file centrality_force [16/20].\n"
     ]
    },
    {
     "name": "stderr",
     "output_type": "stream",
     "text": [
      "\r",
      " 63%|██████▎   | 19/30 [01:32<00:55,  5.04s/it]"
     ]
    },
    {
     "name": "stdout",
     "output_type": "stream",
     "text": [
      "Running file communities_bisection [17/20].\n",
      "Running file communities_asyn_fluid [18/20].\n",
      "Running file communities_label_propagation [19/20].\n",
      "Running file basic_stats [0/20].\n",
      "Running file clustering [1/20].\n",
      "Running file centrality_degree [2/20].\n",
      "Running file centrality_degree [3/20].\n",
      "Running file centrality_degree [4/20].\n",
      "Running file centrality_eigenvector [5/20].\n",
      "Running file centrality_eigenvector [6/20].\n",
      "Running file centrality_eigenvector [7/20].\n",
      "Running file communities_modularity [8/20].\n",
      "Running file node_connectivity [9/20].\n",
      "Running file vitality [10/20].\n",
      "Running file structural_holes [11/20].\n",
      "Running file scale_free [12/20].\n",
      "Running file small_worldness [13/20].\n",
      "Running file shortest_paths [14/20].\n",
      "Running file rich_club [15/20].\n",
      "Running file centrality_force [16/20].\n"
     ]
    },
    {
     "name": "stderr",
     "output_type": "stream",
     "text": [
      "\r",
      " 67%|██████▋   | 20/30 [01:39<00:56,  5.68s/it]"
     ]
    },
    {
     "name": "stdout",
     "output_type": "stream",
     "text": [
      "Running file communities_bisection [17/20].\n",
      "Running file communities_asyn_fluid [18/20].\n",
      "Running file communities_label_propagation [19/20].\n",
      "Running file basic_stats [0/20].\n",
      "Running file clustering [1/20].\n",
      "Running file centrality_degree [2/20].\n",
      "Running file centrality_degree [3/20].\n",
      "Running file centrality_degree [4/20].\n",
      "Running file centrality_eigenvector [5/20].\n",
      "Running file centrality_eigenvector [6/20].\n",
      "Running file centrality_eigenvector [7/20].\n",
      "Running file communities_modularity [8/20].\n",
      "Running file node_connectivity [9/20].\n",
      "Running file vitality [10/20].\n",
      "Running file structural_holes [11/20].\n",
      "Running file scale_free [12/20].\n",
      "Running file small_worldness [13/20].\n",
      "Running file shortest_paths [14/20].\n",
      "Running file rich_club [15/20].\n",
      "Running file centrality_force [16/20].\n"
     ]
    },
    {
     "name": "stderr",
     "output_type": "stream",
     "text": [
      "\r",
      " 70%|███████   | 21/30 [01:43<00:46,  5.20s/it]"
     ]
    },
    {
     "name": "stdout",
     "output_type": "stream",
     "text": [
      "Running file communities_bisection [17/20].\n",
      "Running file communities_asyn_fluid [18/20].\n",
      "Running file communities_label_propagation [19/20].\n",
      "Running file basic_stats [0/20].\n",
      "Running file clustering [1/20].\n",
      "Running file centrality_degree [2/20].\n",
      "Running file centrality_degree [3/20].\n",
      "Running file centrality_degree [4/20].\n",
      "Running file centrality_eigenvector [5/20].\n",
      "Running file centrality_eigenvector [6/20].\n",
      "Running file centrality_eigenvector [7/20].\n",
      "Running file communities_modularity [8/20].\n",
      "Running file node_connectivity [9/20].\n",
      "Running file vitality [10/20].\n",
      "Running file structural_holes [11/20].\n",
      "Running file scale_free [12/20].\n",
      "Running file small_worldness [13/20].\n",
      "Running file shortest_paths [14/20].\n",
      "Running file rich_club [15/20].\n",
      "Running file centrality_force [16/20].\n"
     ]
    },
    {
     "name": "stderr",
     "output_type": "stream",
     "text": [
      "\r",
      " 73%|███████▎  | 22/30 [01:47<00:37,  4.70s/it]"
     ]
    },
    {
     "name": "stdout",
     "output_type": "stream",
     "text": [
      "Running file communities_bisection [17/20].\n",
      "Running file communities_asyn_fluid [18/20].\n",
      "Running file communities_label_propagation [19/20].\n",
      "Running file basic_stats [0/20].\n",
      "Running file clustering [1/20].\n",
      "Running file centrality_degree [2/20].\n",
      "Running file centrality_degree [3/20].\n",
      "Running file centrality_degree [4/20].\n",
      "Running file centrality_eigenvector [5/20].\n",
      "Running file centrality_eigenvector [6/20].\n",
      "Running file centrality_eigenvector [7/20].\n",
      "Running file communities_modularity [8/20].\n",
      "Running file node_connectivity [9/20].\n",
      "Running file vitality [10/20].\n",
      "Running file structural_holes [11/20].\n",
      "Running file scale_free [12/20].\n",
      "Running file small_worldness [13/20].\n",
      "Running file shortest_paths [14/20].\n",
      "Running file rich_club [15/20].\n",
      "Running file centrality_force [16/20].\n"
     ]
    },
    {
     "name": "stderr",
     "output_type": "stream",
     "text": [
      "\r",
      " 77%|███████▋  | 23/30 [01:52<00:33,  4.77s/it]"
     ]
    },
    {
     "name": "stdout",
     "output_type": "stream",
     "text": [
      "Running file communities_bisection [17/20].\n",
      "Running file communities_asyn_fluid [18/20].\n",
      "Running file communities_label_propagation [19/20].\n",
      "Running file basic_stats [0/20].\n",
      "Running file clustering [1/20].\n",
      "Running file centrality_degree [2/20].\n",
      "Running file centrality_degree [3/20].\n",
      "Running file centrality_degree [4/20].\n",
      "Running file centrality_eigenvector [5/20].\n",
      "Running file centrality_eigenvector [6/20].\n",
      "Running file centrality_eigenvector [7/20].\n",
      "Running file communities_modularity [8/20].\n",
      "Running file node_connectivity [9/20].\n",
      "Running file vitality [10/20].\n",
      "Running file structural_holes [11/20].\n",
      "Running file scale_free [12/20].\n",
      "Running file small_worldness [13/20].\n",
      "Running file shortest_paths [14/20].\n",
      "Running file rich_club [15/20].\n",
      "Running file centrality_force [16/20].\n"
     ]
    },
    {
     "name": "stderr",
     "output_type": "stream",
     "text": [
      "\r",
      " 80%|████████  | 24/30 [01:57<00:29,  4.85s/it]"
     ]
    },
    {
     "name": "stdout",
     "output_type": "stream",
     "text": [
      "Running file communities_bisection [17/20].\n",
      "Running file communities_asyn_fluid [18/20].\n",
      "Running file communities_label_propagation [19/20].\n",
      "Running file basic_stats [0/20].\n",
      "Running file clustering [1/20].\n",
      "Running file centrality_degree [2/20].\n",
      "Running file centrality_degree [3/20].\n",
      "Running file centrality_degree [4/20].\n",
      "Running file centrality_eigenvector [5/20].\n",
      "Running file centrality_eigenvector [6/20].\n",
      "Running file centrality_eigenvector [7/20].\n",
      "Running file communities_modularity [8/20].\n",
      "Running file node_connectivity [9/20].\n",
      "Running file vitality [10/20].\n",
      "Running file structural_holes [11/20].\n",
      "Running file scale_free [12/20].\n",
      "Running file small_worldness [13/20].\n",
      "Running file shortest_paths [14/20].\n",
      "Running file rich_club [15/20].\n",
      "Running file centrality_force [16/20].\n"
     ]
    },
    {
     "name": "stderr",
     "output_type": "stream",
     "text": [
      "\r",
      " 83%|████████▎ | 25/30 [02:02<00:24,  4.93s/it]"
     ]
    },
    {
     "name": "stdout",
     "output_type": "stream",
     "text": [
      "Running file communities_bisection [17/20].\n",
      "Running file communities_asyn_fluid [18/20].\n",
      "Running file communities_label_propagation [19/20].\n",
      "Running file basic_stats [0/20].\n",
      "Running file clustering [1/20].\n",
      "Running file centrality_degree [2/20].\n",
      "Running file centrality_degree [3/20].\n",
      "Running file centrality_degree [4/20].\n",
      "Running file centrality_eigenvector [5/20].\n",
      "Running file centrality_eigenvector [6/20].\n",
      "Running file centrality_eigenvector [7/20].\n",
      "Running file communities_modularity [8/20].\n",
      "Running file node_connectivity [9/20].\n",
      "Running file vitality [10/20].\n",
      "Running file structural_holes [11/20].\n",
      "Running file scale_free [12/20].\n",
      "Running file small_worldness [13/20].\n",
      "Running file shortest_paths [14/20].\n",
      "Running file rich_club [15/20].\n",
      "Running file centrality_force [16/20].\n"
     ]
    },
    {
     "name": "stderr",
     "output_type": "stream",
     "text": [
      "\r",
      " 87%|████████▋ | 26/30 [02:05<00:17,  4.32s/it]"
     ]
    },
    {
     "name": "stdout",
     "output_type": "stream",
     "text": [
      "Running file communities_bisection [17/20].\n",
      "Running file communities_asyn_fluid [18/20].\n",
      "Running file communities_label_propagation [19/20].\n",
      "Running file basic_stats [0/20].\n",
      "Running file clustering [1/20].\n",
      "Running file centrality_degree [2/20].\n",
      "Running file centrality_degree [3/20].\n",
      "Running file centrality_degree [4/20].\n",
      "Running file centrality_eigenvector [5/20].\n",
      "Running file centrality_eigenvector [6/20].\n",
      "Running file centrality_eigenvector [7/20].\n",
      "Running file communities_modularity [8/20].\n",
      "Running file node_connectivity [9/20].\n",
      "Running file vitality [10/20].\n",
      "Running file structural_holes [11/20].\n",
      "Running file scale_free [12/20].\n",
      "Running file small_worldness [13/20].\n",
      "Running file shortest_paths [14/20].\n",
      "Running file rich_club [15/20].\n",
      "Running file centrality_force [16/20].\n"
     ]
    },
    {
     "name": "stderr",
     "output_type": "stream",
     "text": [
      "\r",
      " 90%|█████████ | 27/30 [02:09<00:12,  4.16s/it]"
     ]
    },
    {
     "name": "stdout",
     "output_type": "stream",
     "text": [
      "Running file communities_bisection [17/20].\n",
      "Running file communities_asyn_fluid [18/20].\n",
      "Running file communities_label_propagation [19/20].\n",
      "Running file basic_stats [0/20].\n",
      "Running file clustering [1/20].\n",
      "Running file centrality_degree [2/20].\n",
      "Running file centrality_degree [3/20].\n",
      "Running file centrality_degree [4/20].\n",
      "Running file centrality_eigenvector [5/20].\n",
      "Running file centrality_eigenvector [6/20].\n",
      "Running file centrality_eigenvector [7/20].\n",
      "Running file communities_modularity [8/20].\n",
      "Running file node_connectivity [9/20].\n",
      "Running file vitality [10/20].\n",
      "Running file structural_holes [11/20].\n",
      "Running file scale_free [12/20].\n",
      "Running file small_worldness [13/20].\n",
      "Running file shortest_paths [14/20].\n",
      "Running file rich_club [15/20].\n",
      "Running file centrality_force [16/20].\n"
     ]
    },
    {
     "name": "stderr",
     "output_type": "stream",
     "text": [
      "\r",
      " 93%|█████████▎| 28/30 [02:14<00:08,  4.42s/it]"
     ]
    },
    {
     "name": "stdout",
     "output_type": "stream",
     "text": [
      "Running file communities_bisection [17/20].\n",
      "Running file communities_asyn_fluid [18/20].\n",
      "Running file communities_label_propagation [19/20].\n",
      "Running file basic_stats [0/20].\n",
      "Running file clustering [1/20].\n",
      "Running file centrality_degree [2/20].\n",
      "Running file centrality_degree [3/20].\n",
      "Running file centrality_degree [4/20].\n",
      "Running file centrality_eigenvector [5/20].\n",
      "Running file centrality_eigenvector [6/20].\n",
      "Running file centrality_eigenvector [7/20].\n",
      "Running file communities_modularity [8/20].\n",
      "Running file node_connectivity [9/20].\n",
      "Running file vitality [10/20].\n",
      "Running file structural_holes [11/20].\n",
      "Running file scale_free [12/20].\n",
      "Running file small_worldness [13/20].\n",
      "Running file shortest_paths [14/20].\n",
      "Running file rich_club [15/20].\n",
      "Running file centrality_force [16/20].\n"
     ]
    },
    {
     "name": "stderr",
     "output_type": "stream",
     "text": [
      "\r",
      " 97%|█████████▋| 29/30 [02:17<00:04,  4.13s/it]"
     ]
    },
    {
     "name": "stdout",
     "output_type": "stream",
     "text": [
      "Running file communities_bisection [17/20].\n",
      "Running file communities_asyn_fluid [18/20].\n",
      "Running file communities_label_propagation [19/20].\n",
      "Running file basic_stats [0/20].\n",
      "Running file clustering [1/20].\n",
      "Running file centrality_degree [2/20].\n",
      "Running file centrality_degree [3/20].\n",
      "Running file centrality_degree [4/20].\n",
      "Running file centrality_eigenvector [5/20].\n",
      "Running file centrality_eigenvector [6/20].\n",
      "Running file centrality_eigenvector [7/20].\n",
      "Running file communities_modularity [8/20].\n",
      "Running file node_connectivity [9/20].\n",
      "Running file vitality [10/20].\n",
      "Running file structural_holes [11/20].\n",
      "Running file scale_free [12/20].\n",
      "Running file small_worldness [13/20].\n",
      "Running file shortest_paths [14/20].\n",
      "Running file rich_club [15/20].\n",
      "Running file centrality_force [16/20].\n",
      "Running file communities_bisection [17/20].\n",
      "Running file communities_asyn_fluid [18/20].\n"
     ]
    },
    {
     "name": "stderr",
     "output_type": "stream",
     "text": [
      "\r",
      "100%|██████████| 30/30 [02:27<00:00,  5.99s/it]"
     ]
    },
    {
     "name": "stdout",
     "output_type": "stream",
     "text": [
      "Running file communities_label_propagation [19/20].\n"
     ]
    },
    {
     "name": "stderr",
     "output_type": "stream",
     "text": [
      "\n"
     ]
    }
   ],
   "source": [
    "from hcga.graphs import Graphs\n",
    "graph_obj = Graphs()\n",
    "graph_obj.calculate_features()"
   ]
  },
  {
   "cell_type": "code",
   "execution_count": 14,
   "metadata": {},
   "outputs": [
    {
     "name": "stderr",
     "output_type": "stream",
     "text": [
      "/home/robert/anaconda3/lib/python3.6/site-packages/hcga/graphs.py:97: RuntimeWarning: invalid value encountered in true_divide\n",
      "  X_N = X / X.max(axis=0)\n",
      "/home/robert/anaconda3/lib/python3.6/site-packages/sklearn/discriminant_analysis.py:388: UserWarning: Variables are collinear.\n",
      "  warnings.warn(\"Variables are collinear.\")\n",
      "/home/robert/anaconda3/lib/python3.6/site-packages/sklearn/discriminant_analysis.py:388: UserWarning: Variables are collinear.\n",
      "  warnings.warn(\"Variables are collinear.\")\n",
      "/home/robert/anaconda3/lib/python3.6/site-packages/sklearn/discriminant_analysis.py:388: UserWarning: Variables are collinear.\n",
      "  warnings.warn(\"Variables are collinear.\")\n",
      "/home/robert/anaconda3/lib/python3.6/site-packages/sklearn/discriminant_analysis.py:388: UserWarning: Variables are collinear.\n",
      "  warnings.warn(\"Variables are collinear.\")\n",
      "/home/robert/anaconda3/lib/python3.6/site-packages/sklearn/discriminant_analysis.py:388: UserWarning: Variables are collinear.\n",
      "  warnings.warn(\"Variables are collinear.\")\n",
      "/home/robert/anaconda3/lib/python3.6/site-packages/sklearn/discriminant_analysis.py:388: UserWarning: Variables are collinear.\n",
      "  warnings.warn(\"Variables are collinear.\")\n",
      "/home/robert/anaconda3/lib/python3.6/site-packages/sklearn/discriminant_analysis.py:388: UserWarning: Variables are collinear.\n",
      "  warnings.warn(\"Variables are collinear.\")\n",
      "/home/robert/anaconda3/lib/python3.6/site-packages/sklearn/discriminant_analysis.py:388: UserWarning: Variables are collinear.\n",
      "  warnings.warn(\"Variables are collinear.\")\n",
      "/home/robert/anaconda3/lib/python3.6/site-packages/sklearn/discriminant_analysis.py:388: UserWarning: Variables are collinear.\n",
      "  warnings.warn(\"Variables are collinear.\")\n",
      "/home/robert/anaconda3/lib/python3.6/site-packages/sklearn/discriminant_analysis.py:388: UserWarning: Variables are collinear.\n",
      "  warnings.warn(\"Variables are collinear.\")\n"
     ]
    },
    {
     "name": "stdout",
     "output_type": "stream",
     "text": [
      "LDA: 0.300000 (0.276887)\n",
      "KNN: 0.400000 (0.290593)\n",
      "CART: 0.266667 (0.326599)\n",
      "NB: 0.366667 (0.233333)\n",
      "SVM: 0.100000 (0.152753)\n"
     ]
    },
    {
     "data": {
      "image/png": "[encoded data removed]",
      "text/plain": [
       "<Figure size 432x288 with 1 Axes>"
      ]
     },
     "metadata": {
      "needs_background": "light"
     },
     "output_type": "display_data"
    }
   ],
   "source": [
    "graph_obj.organise_feature_data()\n",
    "graph_obj.normalise_feature_data()\n",
    "graph_obj.graph_classification()"
   ]
  },
  {
   "cell_type": "code",
   "execution_count": 7,
   "metadata": {},
   "outputs": [
    {
     "data": {
      "text/plain": [
       "(30, 203)"
      ]
     },
     "execution_count": 7,
     "metadata": {},
     "output_type": "execute_result"
    }
   ],
   "source": [
    "graph_obj.X.shape\n"
   ]
  },
  {
   "cell_type": "code",
   "execution_count": 16,
   "metadata": {},
   "outputs": [
    {
     "data": {
      "text/plain": [
       "True"
      ]
     },
     "execution_count": 16,
     "metadata": {},
     "output_type": "execute_result"
    }
   ],
   "source": []
  }
 ],
 "metadata": {
  "kernelspec": {
   "display_name": "Python 3",
   "language": "python",
   "name": "python3"
  },
  "language_info": {
   "codemirror_mode": {
    "name": "ipython",
    "version": 3
   },
   "file_extension": ".py",
   "mimetype": "text/x-python",
   "name": "python",
   "nbconvert_exporter": "python",
   "pygments_lexer": "ipython3",
   "version": "3.6.8"
  }
 },
 "nbformat": 4,
 "nbformat_minor": 2
}
