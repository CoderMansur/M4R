{
 "cells": [
  {
   "cell_type": "code",
   "execution_count": 1,
   "metadata": {},
   "outputs": [],
   "source": [
    "import networkx as nx\n",
    "import numpy as np\n",
    "import matplotlib.pyplot as plt\n",
    "import pandas as pd\n",
    "\n",
    "\n",
    "\n",
    "\n",
    "\n",
    "\n",
    "%matplotlib notebook"
   ]
  },
  {
   "cell_type": "code",
   "execution_count": 2,
   "metadata": {},
   "outputs": [],
   "source": [
    "G = nx.karate_club_graph()"
   ]
  },
  {
   "cell_type": "code",
   "execution_count": null,
   "metadata": {
    "scrolled": true
   },
   "outputs": [],
   "source": []
  },
  {
   "cell_type": "markdown",
   "metadata": {},
   "source": []
  },
  {
   "cell_type": "code",
   "execution_count": 3,
   "metadata": {
    "scrolled": true
   },
   "outputs": [
    {
     "name": "stderr",
     "output_type": "stream",
     "text": [
      "\r",
      "  0%|          | 0/299 [00:00<?, ?it/s]"
     ]
    },
    {
     "name": "stdout",
     "output_type": "stream",
     "text": [
      "Graph 37 is not connected. Taking largest subgraph and relabelling the nodes.\n",
      "Graph 51 is not connected. Taking largest subgraph and relabelling the nodes.\n",
      "Graph 96 is not connected. Taking largest subgraph and relabelling the nodes.\n",
      "Graph 120 is not connected. Taking largest subgraph and relabelling the nodes.\n",
      "Graph 129 is not connected. Taking largest subgraph and relabelling the nodes.\n",
      "Graph 153 is not connected. Taking largest subgraph and relabelling the nodes.\n",
      "Graph 166 is not connected. Taking largest subgraph and relabelling the nodes.\n",
      "Graph 178 is not connected. Taking largest subgraph and relabelling the nodes.\n",
      "Graph 235 is not connected. Taking largest subgraph and relabelling the nodes.\n",
      "Graph 274 is not connected. Taking largest subgraph and relabelling the nodes.\n",
      "Graph 285 is not connected. Taking largest subgraph and relabelling the nodes.\n",
      "Graph 286 is not connected. Taking largest subgraph and relabelling the nodes.\n",
      "Graph 287 is not connected. Taking largest subgraph and relabelling the nodes.\n"
     ]
    },
    {
     "name": "stderr",
     "output_type": "stream",
     "text": [
      "  2%|▏         | 7/299 [00:28<19:28,  4.00s/it]/home/robert/anaconda3/lib/python3.6/site-packages/numpy/core/fromnumeric.py:3118: RuntimeWarning: Mean of empty slice.\n",
      "  out=out, **kwargs)\n",
      "/home/robert/anaconda3/lib/python3.6/site-packages/numpy/core/_methods.py:85: RuntimeWarning: invalid value encountered in double_scalars\n",
      "  ret = ret.dtype.type(ret / rcount)\n",
      "  3%|▎         | 10/299 [00:55<31:04,  6.45s/it]/home/robert/anaconda3/lib/python3.6/site-packages/numpy/lib/histograms.py:893: RuntimeWarning: divide by zero encountered in true_divide\n",
      "  return n/db/n.sum(), bin_edges\n",
      "/home/robert/anaconda3/lib/python3.6/site-packages/numpy/lib/histograms.py:893: RuntimeWarning: invalid value encountered in true_divide\n",
      "  return n/db/n.sum(), bin_edges\n",
      "/home/robert/anaconda3/lib/python3.6/site-packages/numpy/lib/histograms.py:893: RuntimeWarning: divide by zero encountered in true_divide\n",
      "  return n/db/n.sum(), bin_edges\n",
      "/home/robert/anaconda3/lib/python3.6/site-packages/numpy/lib/histograms.py:893: RuntimeWarning: invalid value encountered in true_divide\n",
      "  return n/db/n.sum(), bin_edges\n",
      "/home/robert/anaconda3/lib/python3.6/site-packages/numpy/lib/histograms.py:893: RuntimeWarning: divide by zero encountered in true_divide\n",
      "  return n/db/n.sum(), bin_edges\n",
      "/home/robert/anaconda3/lib/python3.6/site-packages/numpy/lib/histograms.py:893: RuntimeWarning: invalid value encountered in true_divide\n",
      "  return n/db/n.sum(), bin_edges\n",
      " 12%|█▏        | 36/299 [03:17<23:44,  5.41s/it]/home/robert/anaconda3/lib/python3.6/site-packages/hcga/Operations/small_worldness.py:70: RuntimeWarning: invalid value encountered in double_scalars\n",
      "  sigma = (C / Cr) / (L / Lr)\n",
      " 39%|███▉      | 116/299 [09:36<17:49,  5.85s/it]/home/robert/anaconda3/lib/python3.6/site-packages/numpy/core/fromnumeric.py:3118: RuntimeWarning: Mean of empty slice.\n",
      "  out=out, **kwargs)\n",
      "/home/robert/anaconda3/lib/python3.6/site-packages/numpy/core/_methods.py:85: RuntimeWarning: invalid value encountered in double_scalars\n",
      "  ret = ret.dtype.type(ret / rcount)\n",
      " 40%|████      | 121/299 [10:10<15:03,  5.08s/it]/home/robert/anaconda3/lib/python3.6/site-packages/numpy/core/fromnumeric.py:3118: RuntimeWarning: Mean of empty slice.\n",
      "  out=out, **kwargs)\n",
      "/home/robert/anaconda3/lib/python3.6/site-packages/numpy/core/_methods.py:85: RuntimeWarning: invalid value encountered in double_scalars\n",
      "  ret = ret.dtype.type(ret / rcount)\n",
      " 45%|████▍     | 134/299 [11:10<09:39,  3.51s/it]/home/robert/anaconda3/lib/python3.6/site-packages/numpy/lib/histograms.py:893: RuntimeWarning: divide by zero encountered in true_divide\n",
      "  return n/db/n.sum(), bin_edges\n",
      "/home/robert/anaconda3/lib/python3.6/site-packages/numpy/lib/histograms.py:893: RuntimeWarning: invalid value encountered in true_divide\n",
      "  return n/db/n.sum(), bin_edges\n",
      "/home/robert/anaconda3/lib/python3.6/site-packages/numpy/lib/histograms.py:893: RuntimeWarning: divide by zero encountered in true_divide\n",
      "  return n/db/n.sum(), bin_edges\n",
      "/home/robert/anaconda3/lib/python3.6/site-packages/numpy/lib/histograms.py:893: RuntimeWarning: invalid value encountered in true_divide\n",
      "  return n/db/n.sum(), bin_edges\n",
      "/home/robert/anaconda3/lib/python3.6/site-packages/numpy/lib/histograms.py:893: RuntimeWarning: divide by zero encountered in true_divide\n",
      "  return n/db/n.sum(), bin_edges\n",
      "/home/robert/anaconda3/lib/python3.6/site-packages/numpy/lib/histograms.py:893: RuntimeWarning: invalid value encountered in true_divide\n",
      "  return n/db/n.sum(), bin_edges\n",
      "/home/robert/anaconda3/lib/python3.6/site-packages/numpy/lib/histograms.py:893: RuntimeWarning: divide by zero encountered in true_divide\n",
      "  return n/db/n.sum(), bin_edges\n",
      "/home/robert/anaconda3/lib/python3.6/site-packages/numpy/lib/histograms.py:893: RuntimeWarning: invalid value encountered in true_divide\n",
      "  return n/db/n.sum(), bin_edges\n",
      " 97%|█████████▋| 291/299 [24:10<01:02,  7.87s/it]/home/robert/anaconda3/lib/python3.6/site-packages/numpy/core/fromnumeric.py:3118: RuntimeWarning: Mean of empty slice.\n",
      "  out=out, **kwargs)\n",
      "/home/robert/anaconda3/lib/python3.6/site-packages/numpy/core/_methods.py:85: RuntimeWarning: invalid value encountered in double_scalars\n",
      "  ret = ret.dtype.type(ret / rcount)\n",
      " 98%|█████████▊| 293/299 [24:39<01:04, 10.78s/it]/home/robert/anaconda3/lib/python3.6/site-packages/numpy/core/fromnumeric.py:3118: RuntimeWarning: Mean of empty slice.\n",
      "  out=out, **kwargs)\n",
      "/home/robert/anaconda3/lib/python3.6/site-packages/numpy/core/_methods.py:85: RuntimeWarning: invalid value encountered in double_scalars\n",
      "  ret = ret.dtype.type(ret / rcount)\n",
      " 98%|█████████▊| 294/299 [25:09<01:23, 16.67s/it]/home/robert/anaconda3/lib/python3.6/site-packages/numpy/core/fromnumeric.py:3118: RuntimeWarning: Mean of empty slice.\n",
      "  out=out, **kwargs)\n",
      "/home/robert/anaconda3/lib/python3.6/site-packages/numpy/core/_methods.py:85: RuntimeWarning: invalid value encountered in double_scalars\n",
      "  ret = ret.dtype.type(ret / rcount)\n",
      " 99%|█████████▊| 295/299 [25:45<01:29, 22.40s/it]/home/robert/anaconda3/lib/python3.6/site-packages/numpy/core/fromnumeric.py:3118: RuntimeWarning: Mean of empty slice.\n",
      "  out=out, **kwargs)\n",
      "/home/robert/anaconda3/lib/python3.6/site-packages/numpy/core/_methods.py:85: RuntimeWarning: invalid value encountered in double_scalars\n",
      "  ret = ret.dtype.type(ret / rcount)\n",
      "100%|██████████| 299/299 [26:37<00:00, 12.96s/it]\n"
     ]
    }
   ],
   "source": [
    "from hcga.graphs import Graphs\n",
    "\n",
    "graph_obj = Graphs()\n",
    "graph_obj.calculate_features()\n",
    "\n"
   ]
  },
  {
   "cell_type": "code",
   "execution_count": 39,
   "metadata": {},
   "outputs": [
    {
     "data": {
      "text/plain": [
       "array([ 11.      ,  16.362935,  40.38    ,  -2.03    ,   1.777   ,\n",
       "       102.6     ,   2.      ,   7.      ,   2.      ,   6.      ,\n",
       "         2.      ,   3.      ,   3.      ,   2.      ,   6.      ,\n",
       "         1.      ,   8.      ,   2.      ])"
      ]
     },
     "execution_count": 39,
     "metadata": {},
     "output_type": "execute_result"
    }
   ],
   "source": [
    "G = graph_obj.graphs[0]\n",
    "G.node[0]['feat']"
   ]
  },
  {
   "cell_type": "code",
   "execution_count": 28,
   "metadata": {},
   "outputs": [
    {
     "name": "stderr",
     "output_type": "stream",
     "text": [
      "/home/robert/anaconda3/lib/python3.6/site-packages/hcga/graphs.py:107: RuntimeWarning: invalid value encountered in true_divide\n",
      "  X_N = X / X.max(axis=0)\n",
      "/home/robert/anaconda3/lib/python3.6/site-packages/sklearn/discriminant_analysis.py:388: UserWarning: Variables are collinear.\n",
      "  warnings.warn(\"Variables are collinear.\")\n",
      "/home/robert/anaconda3/lib/python3.6/site-packages/sklearn/discriminant_analysis.py:388: UserWarning: Variables are collinear.\n",
      "  warnings.warn(\"Variables are collinear.\")\n",
      "/home/robert/anaconda3/lib/python3.6/site-packages/sklearn/discriminant_analysis.py:388: UserWarning: Variables are collinear.\n",
      "  warnings.warn(\"Variables are collinear.\")\n",
      "/home/robert/anaconda3/lib/python3.6/site-packages/sklearn/discriminant_analysis.py:388: UserWarning: Variables are collinear.\n",
      "  warnings.warn(\"Variables are collinear.\")\n",
      "/home/robert/anaconda3/lib/python3.6/site-packages/sklearn/discriminant_analysis.py:388: UserWarning: Variables are collinear.\n",
      "  warnings.warn(\"Variables are collinear.\")\n",
      "/home/robert/anaconda3/lib/python3.6/site-packages/sklearn/discriminant_analysis.py:388: UserWarning: Variables are collinear.\n",
      "  warnings.warn(\"Variables are collinear.\")\n",
      "/home/robert/anaconda3/lib/python3.6/site-packages/sklearn/discriminant_analysis.py:388: UserWarning: Variables are collinear.\n",
      "  warnings.warn(\"Variables are collinear.\")\n",
      "/home/robert/anaconda3/lib/python3.6/site-packages/sklearn/discriminant_analysis.py:388: UserWarning: Variables are collinear.\n",
      "  warnings.warn(\"Variables are collinear.\")\n",
      "/home/robert/anaconda3/lib/python3.6/site-packages/sklearn/discriminant_analysis.py:388: UserWarning: Variables are collinear.\n",
      "  warnings.warn(\"Variables are collinear.\")\n",
      "/home/robert/anaconda3/lib/python3.6/site-packages/sklearn/discriminant_analysis.py:388: UserWarning: Variables are collinear.\n",
      "  warnings.warn(\"Variables are collinear.\")\n"
     ]
    },
    {
     "name": "stdout",
     "output_type": "stream",
     "text": [
      "LDA: 0.324023 (0.083405)\n",
      "KNN: 0.256897 (0.166439)\n",
      "CART: 0.334368 (0.133943)\n",
      "NB: 0.301724 (0.183317)\n",
      "SVM: 0.234138 (0.096639)\n"
     ]
    },
    {
     "data": {
      "image/png": "[encoded data removed]",
      "text/plain": [
       "<Figure size 432x288 with 1 Axes>"
      ]
     },
     "metadata": {
      "needs_background": "light"
     },
     "output_type": "display_data"
    }
   ],
   "source": [
    "graph_obj.organise_feature_data()\n",
    "graph_obj.normalise_feature_data()\n",
    "\n",
    "\n",
    "#graph_obj.X_N[:,0]\n",
    "graph_obj.graph_classification()"
   ]
  },
  {
   "cell_type": "code",
   "execution_count": 35,
   "metadata": {},
   "outputs": [
    {
     "data": {
      "text/plain": [
       "array([0.06561161, 0.06561161, 0.13377844, 0.07936989, 0.09365505,\n",
       "       0.19191568, 0.07221219, 0.29397329, 0.29397329, 0.32040929,\n",
       "       0.44268756, 0.33066866, 0.26962247, 0.3721718 , 0.1734576 ,\n",
       "       0.1734576 , 0.19132901, 0.05734743, 0.09380051, 0.07492395,\n",
       "       0.07492395, 0.04612639, 0.04612639])"
      ]
     },
     "execution_count": 35,
     "metadata": {},
     "output_type": "execute_result"
    }
   ],
   "source": [
    "from hcga.Operations.operations import Operations\n",
    "\n",
    "from hcga.Operations import utils\n",
    "import scipy as sp\n",
    "\n",
    "\n",
    "G = graph_obj.graphs[4]\n",
    "\n",
    "op_obj = Operations(G)\n",
    "#op_obj.feature_extraction()\n",
    "eigenvalues= op_obj.eigenvalues\n",
    "eigenvector = op_obj.eigenvectors[:,np.argmax(eigenvalues.real)]\n",
    "            \n",
    "        #eigenvector = eigenvectors[:,0]\n",
    "        \n",
    "largest = eigenvector.flatten().real\n",
    "norm = sp.sign(largest.sum()) * sp.linalg.norm(largest)\n",
    "eigenvector_centrality = largest / norm\n",
    "\n",
    "#meh = np.array([1,2,3,4,5,np.nan,7,8,9])\n",
    "#opt_mod,opt_mod_sse = utils.best_fit_distribution(meh,bins=20)\n",
    "eigenvector_centrality\n"
   ]
  },
  {
   "cell_type": "code",
   "execution_count": 24,
   "metadata": {},
   "outputs": [
    {
     "data": {
      "text/plain": [
       "array([4.24863709+0.j, 3.87518729+0.j, 3.71707122+0.j, 2.96134737+0.j,\n",
       "       1.82707362+0.j, 1.21721304+0.j])"
      ]
     },
     "execution_count": 24,
     "metadata": {},
     "output_type": "execute_result"
    }
   ],
   "source": [
    "M = nx.to_scipy_sparse_matrix(G, nodelist=list(G),dtype=float,weight=None)\n",
    "\n",
    "eigenvalue, eigenvector = sp.sparse.linalg.eigs(M.T, k=6, which='LR',tol=0)\n",
    "eigenvalue"
   ]
  },
  {
   "cell_type": "code",
   "execution_count": null,
   "metadata": {},
   "outputs": [],
   "source": []
  }
 ],
 "metadata": {
  "kernelspec": {
   "display_name": "Python 3",
   "language": "python",
   "name": "python3"
  },
  "language_info": {
   "codemirror_mode": {
    "name": "ipython",
    "version": 3
   },
   "file_extension": ".py",
   "mimetype": "text/x-python",
   "name": "python",
   "nbconvert_exporter": "python",
   "pygments_lexer": "ipython3",
   "version": "3.7.3"
  }
 },
 "nbformat": 4,
 "nbformat_minor": 2
}
