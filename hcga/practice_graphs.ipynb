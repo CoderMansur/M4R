{
 "cells": [
  {
   "cell_type": "code",
   "execution_count": 1,
   "metadata": {},
   "outputs": [],
   "source": [
    "import networkx as nx\n",
    "import numpy as np\n",
    "import matplotlib.pyplot as plt\n",
    "import pandas as pd\n",
    "\n",
    "\n",
    "\n",
    "\n",
    "\n",
    "\n",
    "%matplotlib notebook"
   ]
  },
  {
   "cell_type": "code",
   "execution_count": 2,
   "metadata": {},
   "outputs": [],
   "source": [
    "G = nx.karate_club_graph()"
   ]
  },
  {
   "cell_type": "code",
   "execution_count": null,
   "metadata": {
    "scrolled": true
   },
   "outputs": [],
   "source": []
  },
  {
   "cell_type": "markdown",
   "metadata": {},
   "source": []
  },
  {
   "cell_type": "code",
   "execution_count": null,
   "metadata": {
    "scrolled": true
   },
   "outputs": [
    {
     "name": "stderr",
     "output_type": "stream",
     "text": [
      "\r",
      "  0%|          | 0/299 [00:00<?, ?it/s]"
     ]
    },
    {
     "name": "stdout",
     "output_type": "stream",
     "text": [
      "Graph 37 is not connected. Taking largest subgraph and relabelling the nodes.\n",
      "Graph 51 is not connected. Taking largest subgraph and relabelling the nodes.\n",
      "Graph 96 is not connected. Taking largest subgraph and relabelling the nodes.\n",
      "Graph 120 is not connected. Taking largest subgraph and relabelling the nodes.\n",
      "Graph 129 is not connected. Taking largest subgraph and relabelling the nodes.\n",
      "Graph 153 is not connected. Taking largest subgraph and relabelling the nodes.\n",
      "Graph 166 is not connected. Taking largest subgraph and relabelling the nodes.\n",
      "Graph 178 is not connected. Taking largest subgraph and relabelling the nodes.\n",
      "Graph 235 is not connected. Taking largest subgraph and relabelling the nodes.\n",
      "Graph 274 is not connected. Taking largest subgraph and relabelling the nodes.\n",
      "Graph 285 is not connected. Taking largest subgraph and relabelling the nodes.\n",
      "Graph 286 is not connected. Taking largest subgraph and relabelling the nodes.\n",
      "Graph 287 is not connected. Taking largest subgraph and relabelling the nodes.\n"
     ]
    },
    {
     "name": "stderr",
     "output_type": "stream",
     "text": [
      "  2%|▏         | 7/299 [00:28<19:41,  4.05s/it]/home/robert/anaconda3/lib/python3.6/site-packages/numpy/core/fromnumeric.py:3118: RuntimeWarning: Mean of empty slice.\n",
      "  out=out, **kwargs)\n",
      "/home/robert/anaconda3/lib/python3.6/site-packages/numpy/core/_methods.py:85: RuntimeWarning: invalid value encountered in double_scalars\n",
      "  ret = ret.dtype.type(ret / rcount)\n",
      "  5%|▍         | 14/299 [01:14<25:33,  5.38s/it]"
     ]
    }
   ],
   "source": [
    "from hcga.graphs import Graphs\n",
    "\n",
    "graph_obj = Graphs()\n",
    "graph_obj.calculate_features()\n",
    "\n"
   ]
  },
  {
   "cell_type": "code",
   "execution_count": 9,
   "metadata": {},
   "outputs": [
    {
     "name": "stderr",
     "output_type": "stream",
     "text": [
      "/home/robert/anaconda3/lib/python3.6/site-packages/hcga/Operations/small_worldness.py:70: RuntimeWarning: invalid value encountered in double_scalars\n",
      "  sigma = (C / Cr) / (L / Lr)\n"
     ]
    },
    {
     "ename": "ZeroDivisionError",
     "evalue": "float division",
     "output_type": "error",
     "traceback": [
      "\u001b[0;31m---------------------------------------------------------------------------\u001b[0m",
      "\u001b[0;31mZeroDivisionError\u001b[0m                         Traceback (most recent call last)",
      "\u001b[0;32m<ipython-input-9-5351248df8a1>\u001b[0m in \u001b[0;36m<module>\u001b[0;34m()\u001b[0m\n\u001b[1;32m      4\u001b[0m \u001b[0;34m\u001b[0m\u001b[0m\n\u001b[1;32m      5\u001b[0m \u001b[0mop_obj\u001b[0m \u001b[0;34m=\u001b[0m \u001b[0mOperations\u001b[0m\u001b[0;34m(\u001b[0m\u001b[0mG\u001b[0m\u001b[0;34m)\u001b[0m\u001b[0;34m\u001b[0m\u001b[0;34m\u001b[0m\u001b[0m\n\u001b[0;32m----> 6\u001b[0;31m \u001b[0mop_obj\u001b[0m\u001b[0;34m.\u001b[0m\u001b[0mfeature_extraction\u001b[0m\u001b[0;34m(\u001b[0m\u001b[0;34m)\u001b[0m\u001b[0;34m\u001b[0m\u001b[0;34m\u001b[0m\u001b[0m\n\u001b[0m",
      "\u001b[0;32m/home/robert/anaconda3/lib/python3.6/site-packages/hcga/Operations/operations.py\u001b[0m in \u001b[0;36mfeature_extraction\u001b[0;34m(self)\u001b[0m\n\u001b[1;32m    121\u001b[0m                 \u001b[0mfeature_obj\u001b[0m\u001b[0;34m.\u001b[0m\u001b[0mfeature_extraction\u001b[0m\u001b[0;34m(\u001b[0m\u001b[0;34m)\u001b[0m\u001b[0;34m\u001b[0m\u001b[0;34m\u001b[0m\u001b[0m\n\u001b[1;32m    122\u001b[0m             \u001b[0;32melse\u001b[0m\u001b[0;34m:\u001b[0m\u001b[0;34m\u001b[0m\u001b[0;34m\u001b[0m\u001b[0m\n\u001b[0;32m--> 123\u001b[0;31m                 \u001b[0mfeature_obj\u001b[0m\u001b[0;34m.\u001b[0m\u001b[0mfeature_extraction\u001b[0m\u001b[0;34m(\u001b[0m\u001b[0mparams\u001b[0m\u001b[0;34m)\u001b[0m\u001b[0;34m\u001b[0m\u001b[0;34m\u001b[0m\u001b[0m\n\u001b[0m\u001b[1;32m    124\u001b[0m \u001b[0;34m\u001b[0m\u001b[0m\n\u001b[1;32m    125\u001b[0m \u001b[0;34m\u001b[0m\u001b[0m\n",
      "\u001b[0;32m/home/robert/anaconda3/lib/python3.6/site-packages/hcga/Operations/centrality_force.py\u001b[0m in \u001b[0;36mfeature_extraction\u001b[0;34m(self, args)\u001b[0m\n\u001b[1;32m     79\u001b[0m         \u001b[0;31m# this changes each time so we must average of n_force times\u001b[0m\u001b[0;34m\u001b[0m\u001b[0;34m\u001b[0m\u001b[0;34m\u001b[0m\u001b[0m\n\u001b[1;32m     80\u001b[0m         \u001b[0;32mfor\u001b[0m \u001b[0mi\u001b[0m \u001b[0;32min\u001b[0m \u001b[0mrange\u001b[0m\u001b[0;34m(\u001b[0m\u001b[0mn_force\u001b[0m\u001b[0;34m-\u001b[0m\u001b[0;36m1\u001b[0m\u001b[0;34m)\u001b[0m\u001b[0;34m:\u001b[0m\u001b[0;34m\u001b[0m\u001b[0;34m\u001b[0m\u001b[0m\n\u001b[0;32m---> 81\u001b[0;31m             \u001b[0mpos\u001b[0m \u001b[0;34m=\u001b[0m \u001b[0mforceatlas2\u001b[0m\u001b[0;34m.\u001b[0m\u001b[0mforceatlas2_networkx_layout\u001b[0m\u001b[0;34m(\u001b[0m\u001b[0mG\u001b[0m\u001b[0;34m,\u001b[0m \u001b[0mpos\u001b[0m\u001b[0;34m=\u001b[0m\u001b[0;32mNone\u001b[0m\u001b[0;34m,\u001b[0m \u001b[0miterations\u001b[0m\u001b[0;34m=\u001b[0m\u001b[0;36m2000\u001b[0m\u001b[0;34m)\u001b[0m\u001b[0;34m\u001b[0m\u001b[0;34m\u001b[0m\u001b[0m\n\u001b[0m\u001b[1;32m     82\u001b[0m             \u001b[0mc\u001b[0m \u001b[0;34m+=\u001b[0m \u001b[0mnp\u001b[0m\u001b[0;34m.\u001b[0m\u001b[0mlinalg\u001b[0m\u001b[0;34m.\u001b[0m\u001b[0mnorm\u001b[0m\u001b[0;34m(\u001b[0m\u001b[0mnp\u001b[0m\u001b[0;34m.\u001b[0m\u001b[0marray\u001b[0m\u001b[0;34m(\u001b[0m\u001b[0mlist\u001b[0m\u001b[0;34m(\u001b[0m\u001b[0mpos\u001b[0m\u001b[0;34m.\u001b[0m\u001b[0mvalues\u001b[0m\u001b[0;34m(\u001b[0m\u001b[0;34m)\u001b[0m\u001b[0;34m)\u001b[0m\u001b[0;34m)\u001b[0m\u001b[0;34m,\u001b[0m \u001b[0maxis\u001b[0m\u001b[0;34m=\u001b[0m\u001b[0;36m1\u001b[0m\u001b[0;34m)\u001b[0m\u001b[0;34m\u001b[0m\u001b[0;34m\u001b[0m\u001b[0m\n\u001b[1;32m     83\u001b[0m             \u001b[0mc\u001b[0m \u001b[0;34m=\u001b[0m \u001b[0;34m-\u001b[0m\u001b[0mc\u001b[0m\u001b[0;34m/\u001b[0m\u001b[0mn_force\u001b[0m\u001b[0;34m\u001b[0m\u001b[0;34m\u001b[0m\u001b[0m\n",
      "\u001b[0;32m/home/robert/anaconda3/lib/python3.6/site-packages/fa2/forceatlas2.py\u001b[0m in \u001b[0;36mforceatlas2_networkx_layout\u001b[0;34m(self, G, pos, iterations)\u001b[0m\n\u001b[1;32m    240\u001b[0m         \u001b[0mM\u001b[0m \u001b[0;34m=\u001b[0m \u001b[0mnetworkx\u001b[0m\u001b[0;34m.\u001b[0m\u001b[0mto_scipy_sparse_matrix\u001b[0m\u001b[0;34m(\u001b[0m\u001b[0mG\u001b[0m\u001b[0;34m,\u001b[0m \u001b[0mdtype\u001b[0m\u001b[0;34m=\u001b[0m\u001b[0;34m'f'\u001b[0m\u001b[0;34m,\u001b[0m \u001b[0mformat\u001b[0m\u001b[0;34m=\u001b[0m\u001b[0;34m'lil'\u001b[0m\u001b[0;34m)\u001b[0m\u001b[0;34m\u001b[0m\u001b[0;34m\u001b[0m\u001b[0m\n\u001b[1;32m    241\u001b[0m         \u001b[0;32mif\u001b[0m \u001b[0mpos\u001b[0m \u001b[0;32mis\u001b[0m \u001b[0;32mNone\u001b[0m\u001b[0;34m:\u001b[0m\u001b[0;34m\u001b[0m\u001b[0;34m\u001b[0m\u001b[0m\n\u001b[0;32m--> 242\u001b[0;31m             \u001b[0ml\u001b[0m \u001b[0;34m=\u001b[0m \u001b[0mself\u001b[0m\u001b[0;34m.\u001b[0m\u001b[0mforceatlas2\u001b[0m\u001b[0;34m(\u001b[0m\u001b[0mM\u001b[0m\u001b[0;34m,\u001b[0m \u001b[0mpos\u001b[0m\u001b[0;34m=\u001b[0m\u001b[0;32mNone\u001b[0m\u001b[0;34m,\u001b[0m \u001b[0miterations\u001b[0m\u001b[0;34m=\u001b[0m\u001b[0miterations\u001b[0m\u001b[0;34m)\u001b[0m\u001b[0;34m\u001b[0m\u001b[0;34m\u001b[0m\u001b[0m\n\u001b[0m\u001b[1;32m    243\u001b[0m         \u001b[0;32melse\u001b[0m\u001b[0;34m:\u001b[0m\u001b[0;34m\u001b[0m\u001b[0;34m\u001b[0m\u001b[0m\n\u001b[1;32m    244\u001b[0m             \u001b[0mposlist\u001b[0m \u001b[0;34m=\u001b[0m \u001b[0mnumpy\u001b[0m\u001b[0;34m.\u001b[0m\u001b[0masarray\u001b[0m\u001b[0;34m(\u001b[0m\u001b[0;34m[\u001b[0m\u001b[0mpos\u001b[0m\u001b[0;34m[\u001b[0m\u001b[0mi\u001b[0m\u001b[0;34m]\u001b[0m \u001b[0;32mfor\u001b[0m \u001b[0mi\u001b[0m \u001b[0;32min\u001b[0m \u001b[0mG\u001b[0m\u001b[0;34m.\u001b[0m\u001b[0mnodes\u001b[0m\u001b[0;34m(\u001b[0m\u001b[0;34m)\u001b[0m\u001b[0;34m]\u001b[0m\u001b[0;34m)\u001b[0m\u001b[0;34m\u001b[0m\u001b[0;34m\u001b[0m\u001b[0m\n",
      "\u001b[0;32m/home/robert/anaconda3/lib/python3.6/site-packages/fa2/forceatlas2.py\u001b[0m in \u001b[0;36mforceatlas2\u001b[0;34m(self, G, pos, iterations)\u001b[0m\n\u001b[1;32m    215\u001b[0m             \u001b[0;31m# Adjust speeds and apply forces\u001b[0m\u001b[0;34m\u001b[0m\u001b[0;34m\u001b[0m\u001b[0;34m\u001b[0m\u001b[0m\n\u001b[1;32m    216\u001b[0m             \u001b[0mapplyforces_timer\u001b[0m\u001b[0;34m.\u001b[0m\u001b[0mstart\u001b[0m\u001b[0;34m(\u001b[0m\u001b[0;34m)\u001b[0m\u001b[0;34m\u001b[0m\u001b[0;34m\u001b[0m\u001b[0m\n\u001b[0;32m--> 217\u001b[0;31m             \u001b[0mvalues\u001b[0m \u001b[0;34m=\u001b[0m \u001b[0mfa2util\u001b[0m\u001b[0;34m.\u001b[0m\u001b[0madjustSpeedAndApplyForces\u001b[0m\u001b[0;34m(\u001b[0m\u001b[0mnodes\u001b[0m\u001b[0;34m,\u001b[0m \u001b[0mspeed\u001b[0m\u001b[0;34m,\u001b[0m \u001b[0mspeedEfficiency\u001b[0m\u001b[0;34m,\u001b[0m \u001b[0mself\u001b[0m\u001b[0;34m.\u001b[0m\u001b[0mjitterTolerance\u001b[0m\u001b[0;34m)\u001b[0m\u001b[0;34m\u001b[0m\u001b[0;34m\u001b[0m\u001b[0m\n\u001b[0m\u001b[1;32m    218\u001b[0m             \u001b[0mspeed\u001b[0m \u001b[0;34m=\u001b[0m \u001b[0mvalues\u001b[0m\u001b[0;34m[\u001b[0m\u001b[0;34m'speed'\u001b[0m\u001b[0;34m]\u001b[0m\u001b[0;34m\u001b[0m\u001b[0;34m\u001b[0m\u001b[0m\n\u001b[1;32m    219\u001b[0m             \u001b[0mspeedEfficiency\u001b[0m \u001b[0;34m=\u001b[0m \u001b[0mvalues\u001b[0m\u001b[0;34m[\u001b[0m\u001b[0;34m'speedEfficiency'\u001b[0m\u001b[0;34m]\u001b[0m\u001b[0;34m\u001b[0m\u001b[0;34m\u001b[0m\u001b[0m\n",
      "\u001b[0;32m/home/robert/anaconda3/lib/python3.6/site-packages/fa2/fa2util.cpython-36m-x86_64-linux-gnu.so\u001b[0m in \u001b[0;36mfa2.fa2util.adjustSpeedAndApplyForces\u001b[0;34m()\u001b[0m\n",
      "\u001b[0;32m/home/robert/anaconda3/lib/python3.6/site-packages/fa2/fa2util.cpython-36m-x86_64-linux-gnu.so\u001b[0m in \u001b[0;36mfa2.fa2util.adjustSpeedAndApplyForces\u001b[0;34m()\u001b[0m\n",
      "\u001b[0;31mZeroDivisionError\u001b[0m: float division"
     ]
    }
   ],
   "source": [
    "from hcga.Operations.operations import Operations\n",
    "\n",
    "G = graph_obj.graphs[18]\n",
    "\n",
    "op_obj = Operations(G)\n",
    "op_obj.feature_extraction()"
   ]
  },
  {
   "cell_type": "code",
   "execution_count": 40,
   "metadata": {},
   "outputs": [
    {
     "name": "stdout",
     "output_type": "stream",
     "text": [
      "299\n",
      "297\n"
     ]
    }
   ],
   "source": [
    "graphs = graph_obj.graphs\n",
    "print(len(graphs))\n",
    "\n",
    "\n",
    "#graphs[np.array(to_remove)] = []\n",
    "\n",
    "\n",
    "graphs = [i for j, i in enumerate(graphs) if j not in to_remove]\n",
    "print(len(graphs))\n"
   ]
  },
  {
   "cell_type": "code",
   "execution_count": 20,
   "metadata": {},
   "outputs": [
    {
     "name": "stdout",
     "output_type": "stream",
     "text": [
      "Graph 37 is not connected. Taking largest subgraph and relabelling the nodes.\n",
      "Graph 51 is not connected. Taking largest subgraph and relabelling the nodes.\n",
      "Graph 96 is not connected. Taking largest subgraph and relabelling the nodes.\n",
      "Graph 120 is not connected. Taking largest subgraph and relabelling the nodes.\n",
      "Graph 129 is not connected. Taking largest subgraph and relabelling the nodes.\n",
      "Graph 153 is not connected. Taking largest subgraph and relabelling the nodes.\n",
      "Graph 166 is not connected. Taking largest subgraph and relabelling the nodes.\n",
      "Graph 178 is not connected. Taking largest subgraph and relabelling the nodes.\n",
      "Graph 235 is not connected. Taking largest subgraph and relabelling the nodes.\n",
      "Graph 274 is not connected. Taking largest subgraph and relabelling the nodes.\n",
      "Graph 285 is not connected. Taking largest subgraph and relabelling the nodes.\n",
      "Graph 286 is not connected. Taking largest subgraph and relabelling the nodes.\n",
      "Graph 287 is not connected. Taking largest subgraph and relabelling the nodes.\n"
     ]
    }
   ],
   "source": [
    "from hcga.graphs import Graphs\n",
    "\n",
    "graphs_obj = Graphs()"
   ]
  },
  {
   "cell_type": "code",
   "execution_count": 14,
   "metadata": {},
   "outputs": [
    {
     "data": {
      "text/plain": [
       "array([0.35549144, 0.26595992, 0.3171925 , 0.21117972, 0.07596882,\n",
       "       0.07948305, 0.07948305, 0.17095975, 0.22740391, 0.10267425,\n",
       "       0.07596882, 0.0528557 , 0.08425463, 0.22647272, 0.10140326,\n",
       "       0.10140326, 0.02363563, 0.09239954, 0.10140326, 0.14791251,\n",
       "       0.10140326, 0.09239954, 0.10140326, 0.15011857, 0.05705244,\n",
       "       0.05920647, 0.07557941, 0.13347715, 0.13107782, 0.13496082,\n",
       "       0.1747583 , 0.19103384, 0.30864422, 0.37336347])"
      ]
     },
     "execution_count": 14,
     "metadata": {},
     "output_type": "execute_result"
    }
   ],
   "source": [
    "        # extract the precomputed eigenvectors from the operations object\n",
    "import scipy as sp\n",
    "eigenvector = Opobj.eigenvectors[:,0]\n",
    "largest = eigenvector.flatten().real\n",
    "eigenvector_centrality = sp.sign(largest.sum()) * sp.linalg.norm(largest)\n",
    "largest"
   ]
  },
  {
   "cell_type": "code",
   "execution_count": null,
   "metadata": {
    "collapsed": true
   },
   "outputs": [],
   "source": []
  },
  {
   "cell_type": "code",
   "execution_count": 10,
   "metadata": {
    "collapsed": true
   },
   "outputs": [],
   "source": [
    "import yaml\n",
    "\n",
    "with open(\"operations.yaml\", 'r') as stream:\n",
    "    operations_dict = yaml.load(stream)"
   ]
  },
  {
   "cell_type": "code",
   "execution_count": 11,
   "metadata": {},
   "outputs": [
    {
     "data": {
      "text/plain": [
       "['num_nodes', 'num_edges', 'degree_mean', 'degree_median', 'degree_std']"
      ]
     },
     "execution_count": 11,
     "metadata": {},
     "output_type": "execute_result"
    }
   ],
   "source": [
    "from importlib import import_module\n",
    "\n",
    "operation = operations_dict['BasicStats']\n",
    "main_params = ['filename','classname','shortname','keywords']\n",
    "filename = operation[main_params[0]]\n",
    "classname = operation[main_params[1]]\n",
    "cls = getattr(import_module(filename), classname)\n",
    "cls = cls(G)\n",
    "cls.feature_extraction()\n",
    "cls.features\n",
    "cls.feature_names"
   ]
  },
  {
   "cell_type": "markdown",
   "metadata": {},
   "source": [
    "\n"
   ]
  },
  {
   "cell_type": "code",
   "execution_count": 12,
   "metadata": {},
   "outputs": [
    {
     "name": "stdout",
     "output_type": "stream",
     "text": [
      "basic_stats\n",
      "triangles\n",
      "centrality_degree\n",
      "centrality_degree\n",
      "centrality_degree\n"
     ]
    }
   ],
   "source": [
    "\n",
    "\n",
    "\n",
    "feature_names = []\n",
    "features = []\n",
    "\n",
    "        # loop over the feature classes defined in the YAML file\n",
    "for i, key in enumerate(operations_dict.keys()):\n",
    "    operation = operations_dict[key]\n",
    "\n",
    "    #Extract the filename and class name\n",
    "    main_params = ['filename','classname','shortname','keywords']\n",
    "    filename = operation[main_params[0]]\n",
    "    classname = operation[main_params[1]]\n",
    "    symbolic_name = operation[main_params[2]]\n",
    "    keywords = operation[main_params[3]]\n",
    "\n",
    "    # Extracting all additional arguments if they exist\n",
    "    params = []\n",
    "    args = list(operation.keys() - main_params)\n",
    "    for arg in args:\n",
    "        params.append(operation[arg])\n",
    "\n",
    "    print(filename)\n",
    "    # import the class from the file\n",
    "    feature_obj = getattr(import_module(filename), classname)\n",
    "    feature_obj = feature_obj(G)\n",
    "    \n",
    "    if not params:\n",
    "        feature_obj.feature_extraction()\n",
    "    else: \n",
    "        feature_obj.feature_extraction(params)\n",
    "    \n",
    "    \n",
    "    # Alter the feature feature_names\n",
    "    f_names = feature_obj.feature_names\n",
    "    f_names_updated = [symbolic_name + f_name for f_name in f_names]\n",
    "\n",
    "    # Append the altered feature names and the feature list of values\n",
    "    feature_names.append(f_names_updated)\n",
    "    features.append(feature_obj.features)\n"
   ]
  },
  {
   "cell_type": "code",
   "execution_count": 20,
   "metadata": {},
   "outputs": [
    {
     "data": {
      "text/plain": [
       "[50, 45]"
      ]
     },
     "execution_count": 20,
     "metadata": {},
     "output_type": "execute_result"
    }
   ],
   "source": [
    "params"
   ]
  },
  {
   "cell_type": "code",
   "execution_count": 4,
   "metadata": {},
   "outputs": [
    {
     "data": {
      "text/plain": [
       "<networkx.classes.graph.Graph at 0x7f1c88120a20>"
      ]
     },
     "execution_count": 4,
     "metadata": {},
     "output_type": "execute_result"
    }
   ],
   "source": []
  },
  {
   "cell_type": "code",
   "execution_count": 5,
   "metadata": {
    "collapsed": true
   },
   "outputs": [],
   "source": []
  },
  {
   "cell_type": "code",
   "execution_count": 7,
   "metadata": {},
   "outputs": [
    {
     "data": {
      "text/plain": [
       "[['BS_num_nodes',\n",
       "  'BS_num_edges',\n",
       "  'BS_degree_mean',\n",
       "  'BS_degree_median',\n",
       "  'BS_degree_std'],\n",
       " ['TS_num_triangles',\n",
       "  'TS_transitivity',\n",
       "  'TS_clustering_mean',\n",
       "  'TS_clustering_std',\n",
       "  'TS_clustering_median',\n",
       "  'TS_square_clustering_mean',\n",
       "  'TS_square_clustering_std',\n",
       "  'TS_square_clustering_median'],\n",
       " ['mean_10', 'std_10', 'opt_model_10', 'powerlaw_a_10', 'powerlaw_SSE_10'],\n",
       " ['mean_20', 'std_20', 'opt_model_20', 'powerlaw_a_20', 'powerlaw_SSE_20'],\n",
       " ['mean_50', 'std_50', 'opt_model_50', 'powerlaw_a_50', 'powerlaw_SSE_50']]"
      ]
     },
     "execution_count": 7,
     "metadata": {},
     "output_type": "execute_result"
    }
   ],
   "source": [
    "Opobj.feature_names"
   ]
  },
  {
   "cell_type": "code",
   "execution_count": null,
   "metadata": {
    "collapsed": true
   },
   "outputs": [],
   "source": []
  }
 ],
 "metadata": {
  "kernelspec": {
   "display_name": "Python 3",
   "language": "python",
   "name": "python3"
  },
  "language_info": {
   "codemirror_mode": {
    "name": "ipython",
    "version": 3
   },
   "file_extension": ".py",
   "mimetype": "text/x-python",
   "name": "python",
   "nbconvert_exporter": "python",
   "pygments_lexer": "ipython3",
   "version": "3.6.8"
  }
 },
 "nbformat": 4,
 "nbformat_minor": 2
}
