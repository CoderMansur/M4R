{
 "cells": [
  {
   "cell_type": "code",
   "execution_count": 4,
   "metadata": {},
   "outputs": [],
   "source": [
    "import networkx as nx\n",
    "import numpy as np\n",
    "import matplotlib.pyplot as plt\n",
    "import pandas as pd\n",
    "\n",
    "\n",
    "\n",
    "\n",
    "\n",
    "\n",
    "%matplotlib notebook"
   ]
  },
  {
   "cell_type": "code",
   "execution_count": 5,
   "metadata": {},
   "outputs": [],
   "source": [
    "G = nx.karate_club_graph()"
   ]
  },
  {
   "cell_type": "code",
   "execution_count": null,
   "metadata": {
    "scrolled": true
   },
   "outputs": [],
   "source": []
  },
  {
   "cell_type": "markdown",
   "metadata": {},
   "source": []
  },
  {
   "cell_type": "code",
   "execution_count": 7,
   "metadata": {
    "scrolled": true
   },
   "outputs": [
    {
     "ename": "AttributeError",
     "evalue": "'numpy.ndarray' object has no attribute 'eigenvectors'",
     "output_type": "error",
     "traceback": [
      "\u001b[0;31m---------------------------------------------------------------------------\u001b[0m",
      "\u001b[0;31mAttributeError\u001b[0m                            Traceback (most recent call last)",
      "\u001b[0;32m<ipython-input-7-0e7f397ec975>\u001b[0m in \u001b[0;36m<module>\u001b[0;34m()\u001b[0m\n\u001b[1;32m      7\u001b[0m \u001b[0;34m\u001b[0m\u001b[0m\n\u001b[1;32m      8\u001b[0m \u001b[0mOpobj\u001b[0m\u001b[0;34m.\u001b[0m\u001b[0mG\u001b[0m\u001b[0;34m\u001b[0m\u001b[0;34m\u001b[0m\u001b[0m\n\u001b[0;32m----> 9\u001b[0;31m \u001b[0mOpobj\u001b[0m\u001b[0;34m.\u001b[0m\u001b[0mfeature_extraction\u001b[0m\u001b[0;34m(\u001b[0m\u001b[0;34m)\u001b[0m\u001b[0;34m\u001b[0m\u001b[0;34m\u001b[0m\u001b[0m\n\u001b[0m\u001b[1;32m     10\u001b[0m \u001b[0;34m\u001b[0m\u001b[0m\n\u001b[1;32m     11\u001b[0m \u001b[0mOpobj\u001b[0m\u001b[0;34m.\u001b[0m\u001b[0mG\u001b[0m\u001b[0;34m\u001b[0m\u001b[0;34m\u001b[0m\u001b[0m\n",
      "\u001b[0;32m/home/robert/Documents/PythonCode/hcga/hcga/Operations/operations.py\u001b[0m in \u001b[0;36mfeature_extraction\u001b[0;34m(self)\u001b[0m\n\u001b[1;32m    121\u001b[0m                 \u001b[0mfeature_obj\u001b[0m\u001b[0;34m.\u001b[0m\u001b[0mfeature_extraction\u001b[0m\u001b[0;34m(\u001b[0m\u001b[0;34m)\u001b[0m\u001b[0;34m\u001b[0m\u001b[0;34m\u001b[0m\u001b[0m\n\u001b[1;32m    122\u001b[0m             \u001b[0;32melse\u001b[0m\u001b[0;34m:\u001b[0m\u001b[0;34m\u001b[0m\u001b[0;34m\u001b[0m\u001b[0m\n\u001b[0;32m--> 123\u001b[0;31m                 \u001b[0mfeature_obj\u001b[0m\u001b[0;34m.\u001b[0m\u001b[0mfeature_extraction\u001b[0m\u001b[0;34m(\u001b[0m\u001b[0mparams\u001b[0m\u001b[0;34m)\u001b[0m\u001b[0;34m\u001b[0m\u001b[0;34m\u001b[0m\u001b[0m\n\u001b[0m\u001b[1;32m    124\u001b[0m \u001b[0;34m\u001b[0m\u001b[0m\n\u001b[1;32m    125\u001b[0m \u001b[0;34m\u001b[0m\u001b[0m\n",
      "\u001b[0;32m/home/robert/anaconda3/lib/python3.6/site-packages/hcga/Operations/centrality_eigenvector.py\u001b[0m in \u001b[0;36mfeature_extraction\u001b[0;34m(self, args)\u001b[0m\n\u001b[1;32m     90\u001b[0m         \u001b[0;31m# extract the precomputed eigenvectors from the operations object\u001b[0m\u001b[0;34m\u001b[0m\u001b[0;34m\u001b[0m\u001b[0;34m\u001b[0m\u001b[0m\n\u001b[1;32m     91\u001b[0m \u001b[0;34m\u001b[0m\u001b[0m\n\u001b[0;32m---> 92\u001b[0;31m         \u001b[0meigenvector\u001b[0m \u001b[0;34m=\u001b[0m \u001b[0mop_obj\u001b[0m\u001b[0;34m.\u001b[0m\u001b[0meigenvectors\u001b[0m\u001b[0;34m[\u001b[0m\u001b[0;34m:\u001b[0m\u001b[0;34m,\u001b[0m\u001b[0;36m0\u001b[0m\u001b[0;34m]\u001b[0m\u001b[0;34m\u001b[0m\u001b[0;34m\u001b[0m\u001b[0m\n\u001b[0m\u001b[1;32m     93\u001b[0m         \u001b[0mlargest\u001b[0m \u001b[0;34m=\u001b[0m \u001b[0meigenvector\u001b[0m\u001b[0;34m.\u001b[0m\u001b[0mflatten\u001b[0m\u001b[0;34m(\u001b[0m\u001b[0;34m)\u001b[0m\u001b[0;34m.\u001b[0m\u001b[0mreal\u001b[0m\u001b[0;34m\u001b[0m\u001b[0;34m\u001b[0m\u001b[0m\n\u001b[1;32m     94\u001b[0m         \u001b[0mnorm\u001b[0m \u001b[0;34m=\u001b[0m \u001b[0msp\u001b[0m\u001b[0;34m.\u001b[0m\u001b[0msign\u001b[0m\u001b[0;34m(\u001b[0m\u001b[0mlargest\u001b[0m\u001b[0;34m.\u001b[0m\u001b[0msum\u001b[0m\u001b[0;34m(\u001b[0m\u001b[0;34m)\u001b[0m\u001b[0;34m)\u001b[0m \u001b[0;34m*\u001b[0m \u001b[0msp\u001b[0m\u001b[0;34m.\u001b[0m\u001b[0mlinalg\u001b[0m\u001b[0;34m.\u001b[0m\u001b[0mnorm\u001b[0m\u001b[0;34m(\u001b[0m\u001b[0mlargest\u001b[0m\u001b[0;34m)\u001b[0m\u001b[0;34m\u001b[0m\u001b[0;34m\u001b[0m\u001b[0m\n",
      "\u001b[0;31mAttributeError\u001b[0m: 'numpy.ndarray' object has no attribute 'eigenvectors'"
     ]
    }
   ],
   "source": [
    "from operations import Operations\n",
    "\n",
    "Opobj = Operations(G,'operations.yaml')\n",
    "Opobj.load_yaml()\n",
    "\n",
    "Opobj.operations_dict\n",
    "\n",
    "Opobj.G\n",
    "Opobj.feature_extraction()\n",
    "\n",
    "Opobj.G\n",
    "\n",
    "Opobj.eigenvectors\n"
   ]
  },
  {
   "cell_type": "code",
   "execution_count": 4,
   "metadata": {},
   "outputs": [
    {
     "data": {
      "text/plain": [
       "[['BS_num_nodes',\n",
       "  'BS_num_edges',\n",
       "  'BS_degree_mean',\n",
       "  'BS_degree_median',\n",
       "  'BS_degree_std'],\n",
       " ['CL_num_triangles',\n",
       "  'CL_transitivity',\n",
       "  'CL_clustering_mean',\n",
       "  'CL_clustering_std',\n",
       "  'CL_clustering_median',\n",
       "  'CL_square_clustering_mean',\n",
       "  'CL_square_clustering_std',\n",
       "  'CL_square_clustering_median'],\n",
       " ['DC_mean_10',\n",
       "  'DC_std_10',\n",
       "  'DC_opt_model_10',\n",
       "  'DC_powerlaw_a_10',\n",
       "  'DC_powerlaw_SSE_10'],\n",
       " ['DC_mean_20',\n",
       "  'DC_std_20',\n",
       "  'DC_opt_model_20',\n",
       "  'DC_powerlaw_a_20',\n",
       "  'DC_powerlaw_SSE_20'],\n",
       " ['DC_mean_50',\n",
       "  'DC_std_50',\n",
       "  'DC_opt_model_50',\n",
       "  'DC_powerlaw_a_50',\n",
       "  'DC_powerlaw_SSE_50'],\n",
       " ['EC_mean_10',\n",
       "  'EC_std_10',\n",
       "  'EC_opt_model_10',\n",
       "  'EC_powerlaw_a_10',\n",
       "  'EC_powerlaw_SSE_10'],\n",
       " ['EC_mean_20',\n",
       "  'EC_std_20',\n",
       "  'EC_opt_model_20',\n",
       "  'EC_powerlaw_a_20',\n",
       "  'EC_powerlaw_SSE_20'],\n",
       " ['EC_mean_50',\n",
       "  'EC_std_50',\n",
       "  'EC_opt_model_50',\n",
       "  'EC_powerlaw_a_50',\n",
       "  'EC_powerlaw_SSE_50'],\n",
       " ['MC_num_comms_greedy_mod'],\n",
       " ['NC_mean_10',\n",
       "  'NC_std_10',\n",
       "  'NC_median_10',\n",
       "  'NC_max_10',\n",
       "  'NC_min_10',\n",
       "  'NC_opt_model_mean_10',\n",
       "  'NC_opt_model_std_10',\n",
       "  'NC_opt_model_max_10',\n",
       "  'NC_wiener_index_10'],\n",
       " ['VT_ratio_finite',\n",
       "  'VT_closeness_mean',\n",
       "  'VT_closeness_std',\n",
       "  'VT_closeness_median',\n",
       "  'VT_closeness_max',\n",
       "  'VT_closeness_min'],\n",
       " ['SH_constraint_mean',\n",
       "  'SH_constraint_std',\n",
       "  'SH_constraint_median',\n",
       "  'SH_constraint_max',\n",
       "  'SH_constraint_min',\n",
       "  'SH_constraint_opt_model',\n",
       "  'SH_effective_size_mean',\n",
       "  'SH_effective_size_std',\n",
       "  'SH_effective_size_median',\n",
       "  'SH_effective_size_max',\n",
       "  'SH_effective_size_min',\n",
       "  'SH_effective_size_opt_model'],\n",
       " ['SF_s_metric'],\n",
       " ['SW_sigma', 'SW_omega'],\n",
       " ['SP_path_length_mean', 'SP_path_length_mean_max', 'SP_path_length_max'],\n",
       " ['RC_num_rich',\n",
       "  'RC_mean_rich_coef',\n",
       "  'RC_std_rich_coef',\n",
       "  'RC_max_rich_coef',\n",
       "  'RC_ratio_rich_coef',\n",
       "  'RC_ratio_top2_coef',\n",
       "  'RC_top10_10',\n",
       "  'RC_top10_9',\n",
       "  'RC_top10_8',\n",
       "  'RC_top10_7',\n",
       "  'RC_top10_6',\n",
       "  'RC_top10_5',\n",
       "  'RC_top10_4',\n",
       "  'RC_top10_3top10_2',\n",
       "  'RC_top10_1'],\n",
       " ['FC_mean_10',\n",
       "  'FC_std_10',\n",
       "  'FC_max_10',\n",
       "  'FC_min_10',\n",
       "  'FC_opt_mod_10',\n",
       "  'FC_power_law_a_10',\n",
       "  'FC_power_law_sse_10'],\n",
       " ['CB_node_ratio',\n",
       "  'CB_mod',\n",
       "  'CB_coverage',\n",
       "  'CB_performance',\n",
       "  'CB_inter_comm_edge',\n",
       "  'CB_inter_comm_nedge',\n",
       "  'CB_intra_comm_edge'],\n",
       " ['CA_total_density_2_10',\n",
       "  'CA_ratio_density_2_10',\n",
       "  'CA_most_dense_2_10',\n",
       "  'CA_least_dense_2_10',\n",
       "  'CA_mod_10',\n",
       "  'CA_coverage_10',\n",
       "  'CA_performance_10',\n",
       "  'CA_inter_comm_edge_10',\n",
       "  'CA_inter_comm_nedge_10',\n",
       "  'CA_intra_comm_edge_10',\n",
       "  'CA_num_nodes_ratio_2_10',\n",
       "  'CA_total_density_3_10',\n",
       "  'CA_ratio_density_3_10',\n",
       "  'CA_most_dense_3_10',\n",
       "  'CA_least_dense_3_10',\n",
       "  'CA_mod_10',\n",
       "  'CA_coverage_10',\n",
       "  'CA_performance_10',\n",
       "  'CA_inter_comm_edge_10',\n",
       "  'CA_inter_comm_nedge_10',\n",
       "  'CA_intra_comm_edge_10',\n",
       "  'CA_num_nodes_ratio_3_10',\n",
       "  'CA_total_density_4_10',\n",
       "  'CA_ratio_density_4_10',\n",
       "  'CA_most_dense_4_10',\n",
       "  'CA_least_dense_4_10',\n",
       "  'CA_mod_10',\n",
       "  'CA_coverage_10',\n",
       "  'CA_performance_10',\n",
       "  'CA_inter_comm_edge_10',\n",
       "  'CA_inter_comm_nedge_10',\n",
       "  'CA_intra_comm_edge_10',\n",
       "  'CA_num_nodes_ratio_4_10',\n",
       "  'CA_total_density_5_10',\n",
       "  'CA_ratio_density_5_10',\n",
       "  'CA_most_dense_5_10',\n",
       "  'CA_least_dense_5_10',\n",
       "  'CA_mod_10',\n",
       "  'CA_coverage_10',\n",
       "  'CA_performance_10',\n",
       "  'CA_inter_comm_edge_10',\n",
       "  'CA_inter_comm_nedge_10',\n",
       "  'CA_intra_comm_edge_10',\n",
       "  'CA_num_nodes_ratio_5_10',\n",
       "  'CA_total_density_6_10',\n",
       "  'CA_ratio_density_6_10',\n",
       "  'CA_most_dense_6_10',\n",
       "  'CA_least_dense_6_10',\n",
       "  'CA_mod_10',\n",
       "  'CA_coverage_10',\n",
       "  'CA_performance_10',\n",
       "  'CA_inter_comm_edge_10',\n",
       "  'CA_inter_comm_nedge_10',\n",
       "  'CA_intra_comm_edge_10',\n",
       "  'CA_num_nodes_ratio_6_10',\n",
       "  'CA_total_density_7_10',\n",
       "  'CA_ratio_density_7_10',\n",
       "  'CA_most_dense_7_10',\n",
       "  'CA_least_dense_7_10',\n",
       "  'CA_mod_10',\n",
       "  'CA_coverage_10',\n",
       "  'CA_performance_10',\n",
       "  'CA_inter_comm_edge_10',\n",
       "  'CA_inter_comm_nedge_10',\n",
       "  'CA_intra_comm_edge_10',\n",
       "  'CA_num_nodes_ratio_7_10',\n",
       "  'CA_total_density_8_10',\n",
       "  'CA_ratio_density_8_10',\n",
       "  'CA_most_dense_8_10',\n",
       "  'CA_least_dense_8_10',\n",
       "  'CA_mod_10',\n",
       "  'CA_coverage_10',\n",
       "  'CA_performance_10',\n",
       "  'CA_inter_comm_edge_10',\n",
       "  'CA_inter_comm_nedge_10',\n",
       "  'CA_intra_comm_edge_10',\n",
       "  'CA_num_nodes_ratio_8_10',\n",
       "  'CA_total_density_9_10',\n",
       "  'CA_ratio_density_9_10',\n",
       "  'CA_most_dense_9_10',\n",
       "  'CA_least_dense_9_10',\n",
       "  'CA_mod_10',\n",
       "  'CA_coverage_10',\n",
       "  'CA_performance_10',\n",
       "  'CA_inter_comm_edge_10',\n",
       "  'CA_inter_comm_nedge_10',\n",
       "  'CA_intra_comm_edge_10',\n",
       "  'CA_num_nodes_ratio_9_10'],\n",
       " ['CL_node_ratio',\n",
       "  'CL_mod',\n",
       "  'CL_coverage',\n",
       "  'CL_performance',\n",
       "  'CL_inter_comm_edge',\n",
       "  'CL_inter_comm_nedge',\n",
       "  'CL_intra_comm_edge']]"
      ]
     },
     "execution_count": 4,
     "metadata": {},
     "output_type": "execute_result"
    }
   ],
   "source": [
    "Opobj.feature_names"
   ]
  },
  {
   "cell_type": "code",
   "execution_count": 5,
   "metadata": {},
   "outputs": [
    {
     "data": {
      "text/plain": [
       "[[34, 78, 16.5, 16.5, 9.810708435174291],\n",
       " [3.9705882352941178,\n",
       "  0.2556818181818182,\n",
       "  0.5706384782076823,\n",
       "  0.342266011779565,\n",
       "  0.5,\n",
       "  0.2881950378613188,\n",
       "  0.25735167066472164,\n",
       "  0.22532863849765258],\n",
       " [0.1390374331550802,\n",
       "  0.11576850539129781,\n",
       "  3,\n",
       "  0.030303030303030297,\n",
       "  159.91517479998447],\n",
       " [0.1390374331550802,\n",
       "  0.11576850539129781,\n",
       "  3,\n",
       "  0.030303030303030297,\n",
       "  123.63439046577764],\n",
       " [0.1390374331550802,\n",
       "  0.11576850539129781,\n",
       "  3,\n",
       "  0.030303030303030297,\n",
       "  281.6316253244738],\n",
       " [0.1464113036400676,\n",
       "  0.08930562620741359,\n",
       "  3,\n",
       "  -0.011337942017095367,\n",
       "  67.76939156111155],\n",
       " [0.1464113036400676,\n",
       "  0.08930562620741359,\n",
       "  3,\n",
       "  -0.011337942017095367,\n",
       "  68.37518935432432],\n",
       " [0.1464113036400676,\n",
       "  0.08930562620741359,\n",
       "  3,\n",
       "  -0.011337942017095367,\n",
       "  252.35978156173428],\n",
       " [3],\n",
       " [2.152249134948097, 1.2985233003150884, 2.0, 12.0, 0.0, 2, 2, 2, 1351.0],\n",
       " [74.72727272727273, 24.870906366095195, 85.0, 116.0, -20.0, 4],\n",
       " [0.45417498653406113,\n",
       "  0.45417498653406113,\n",
       "  0.4598765432098765,\n",
       "  1.0,\n",
       "  0.15542329764660495,\n",
       "  4,\n",
       "  3.214273356401384,\n",
       "  3.452679597587806,\n",
       "  2.3333333333333335,\n",
       "  15.235294117647058,\n",
       "  1.0,\n",
       "  4],\n",
       " [3640.0],\n",
       " [1.751069004001485, 0],\n",
       " [3.3373702422145324, 5.029411764705882, 6],\n",
       " [0, 0, 0, 0, 0, 0, 0, 0, 0, 0, 0, 0, 0, 0, 0, 0],\n",
       " [-1.913697286371186,\n",
       "  1.3251668666919154,\n",
       "  4.995264177844956,\n",
       "  0.05727293072121779,\n",
       "  0,\n",
       "  -5.296203847894995,\n",
       "  182.29364110304115],\n",
       " [1.0,\n",
       "  0.3717948717948702,\n",
       "  0.8717948717948718,\n",
       "  0.6185383244206774,\n",
       "  10,\n",
       "  279,\n",
       "  68],\n",
       " [0.11805555555555555,\n",
       "  0.8888888888888888,\n",
       "  16,\n",
       "  18,\n",
       "  0.3714661406969078,\n",
       "  0.8717948717948718,\n",
       "  0.6167557932263814,\n",
       "  10,\n",
       "  278,\n",
       "  68,\n",
       "  0.8888888888888888,\n",
       "  0.11805555555555555,\n",
       "  0.8888888888888888,\n",
       "  16,\n",
       "  18,\n",
       "  0.3714661406969078,\n",
       "  0.8717948717948718,\n",
       "  0.6167557932263814,\n",
       "  10,\n",
       "  278,\n",
       "  68,\n",
       "  0.8888888888888888,\n",
       "  0.11805555555555555,\n",
       "  0.8888888888888888,\n",
       "  18,\n",
       "  16,\n",
       "  0.3714661406969078,\n",
       "  0.8717948717948718,\n",
       "  0.6167557932263814,\n",
       "  10,\n",
       "  278,\n",
       "  68,\n",
       "  0.8888888888888888,\n",
       "  0.11805555555555555,\n",
       "  0.8888888888888888,\n",
       "  18,\n",
       "  16,\n",
       "  0.371466140696909,\n",
       "  0.8717948717948718,\n",
       "  0.6167557932263814,\n",
       "  10,\n",
       "  278,\n",
       "  68,\n",
       "  1.125,\n",
       "  0.11764705882352941,\n",
       "  1.0,\n",
       "  17,\n",
       "  17,\n",
       "  0.3448389217619966,\n",
       "  0.8461538461538461,\n",
       "  0.6114081996434938,\n",
       "  12,\n",
       "  277,\n",
       "  66,\n",
       "  1.0,\n",
       "  0.11805555555555555,\n",
       "  0.8888888888888888,\n",
       "  16,\n",
       "  18,\n",
       "  0.3714661406969078,\n",
       "  0.8717948717948718,\n",
       "  0.6167557932263814,\n",
       "  10,\n",
       "  278,\n",
       "  68,\n",
       "  0.8888888888888888,\n",
       "  0.11764705882352941,\n",
       "  1.0,\n",
       "  17,\n",
       "  17,\n",
       "  0.3461538461538443,\n",
       "  0.8461538461538461,\n",
       "  0.6114081996434938,\n",
       "  12,\n",
       "  277,\n",
       "  66,\n",
       "  1.0,\n",
       "  0.11805555555555555,\n",
       "  0.8888888888888888,\n",
       "  16,\n",
       "  18,\n",
       "  0.3714661406969078,\n",
       "  0.8717948717948718,\n",
       "  0.6167557932263814,\n",
       "  10,\n",
       "  278,\n",
       "  68,\n",
       "  0.8888888888888888],\n",
       " [5.333333333333333,\n",
       "  0.3251150558842867,\n",
       "  0.7692307692307693,\n",
       "  0.6684491978609626,\n",
       "  18,\n",
       "  315,\n",
       "  60]]"
      ]
     },
     "execution_count": 5,
     "metadata": {},
     "output_type": "execute_result"
    }
   ],
   "source": [
    "Opobj.feature_vals"
   ]
  },
  {
   "cell_type": "code",
   "execution_count": 7,
   "metadata": {},
   "outputs": [
    {
     "ename": "FileNotFoundError",
     "evalue": "[Errno 2] No such file or directory: 'TestData/ENZYMES/ENZYMES_graph_indicator.txt'",
     "output_type": "error",
     "traceback": [
      "\u001b[0;31m---------------------------------------------------------------------------\u001b[0m",
      "\u001b[0;31mFileNotFoundError\u001b[0m                         Traceback (most recent call last)",
      "\u001b[0;32m<ipython-input-7-3ed066736d3d>\u001b[0m in \u001b[0;36m<module>\u001b[0;34m()\u001b[0m\n\u001b[1;32m      1\u001b[0m \u001b[0;32mfrom\u001b[0m \u001b[0mhcga\u001b[0m\u001b[0;34m.\u001b[0m\u001b[0mgraphs\u001b[0m \u001b[0;32mimport\u001b[0m \u001b[0mGraphs\u001b[0m\u001b[0;34m\u001b[0m\u001b[0;34m\u001b[0m\u001b[0m\n\u001b[1;32m      2\u001b[0m \u001b[0;34m\u001b[0m\u001b[0m\n\u001b[0;32m----> 3\u001b[0;31m \u001b[0mgraphs_obj\u001b[0m \u001b[0;34m=\u001b[0m \u001b[0mGraphs\u001b[0m\u001b[0;34m(\u001b[0m\u001b[0;34m)\u001b[0m\u001b[0;34m\u001b[0m\u001b[0;34m\u001b[0m\u001b[0m\n\u001b[0m",
      "\u001b[0;32m/Users/julia/anaconda/lib/python3.6/site-packages/hcga-1.0-py3.6.egg/hcga/graphs.py\u001b[0m in \u001b[0;36m__init__\u001b[0;34m(self, graphs, graph_meta_data, node_meta_data, graph_class)\u001b[0m\n\u001b[1;32m     25\u001b[0m \u001b[0;34m\u001b[0m\u001b[0m\n\u001b[1;32m     26\u001b[0m         \u001b[0;32mif\u001b[0m \u001b[0;32mnot\u001b[0m \u001b[0mgraphs\u001b[0m\u001b[0;34m:\u001b[0m\u001b[0;34m\u001b[0m\u001b[0;34m\u001b[0m\u001b[0m\n\u001b[0;32m---> 27\u001b[0;31m             \u001b[0mself\u001b[0m\u001b[0;34m.\u001b[0m\u001b[0mload_graphs\u001b[0m\u001b[0;34m(\u001b[0m\u001b[0;34m)\u001b[0m\u001b[0;34m\u001b[0m\u001b[0;34m\u001b[0m\u001b[0m\n\u001b[0m\u001b[1;32m     28\u001b[0m \u001b[0;34m\u001b[0m\u001b[0m\n\u001b[1;32m     29\u001b[0m \u001b[0;34m\u001b[0m\u001b[0m\n",
      "\u001b[0;32m/Users/julia/anaconda/lib/python3.6/site-packages/hcga-1.0-py3.6.egg/hcga/graphs.py\u001b[0m in \u001b[0;36mload_graphs\u001b[0;34m(self, directory, dataname)\u001b[0m\n\u001b[1;32m     33\u001b[0m \u001b[0;34m\u001b[0m\u001b[0m\n\u001b[1;32m     34\u001b[0m \u001b[0;34m\u001b[0m\u001b[0m\n\u001b[0;32m---> 35\u001b[0;31m         \u001b[0mgraphs\u001b[0m\u001b[0;34m,\u001b[0m\u001b[0mgraph_labels\u001b[0m \u001b[0;34m=\u001b[0m \u001b[0mread_graphfile\u001b[0m\u001b[0;34m(\u001b[0m\u001b[0mdirectory\u001b[0m\u001b[0;34m,\u001b[0m\u001b[0mdataname\u001b[0m\u001b[0;34m)\u001b[0m\u001b[0;34m\u001b[0m\u001b[0;34m\u001b[0m\u001b[0m\n\u001b[0m\u001b[1;32m     36\u001b[0m \u001b[0;34m\u001b[0m\u001b[0m\n\u001b[1;32m     37\u001b[0m         \u001b[0;31m# selected data for testing code\u001b[0m\u001b[0;34m\u001b[0m\u001b[0;34m\u001b[0m\u001b[0;34m\u001b[0m\u001b[0m\n",
      "\u001b[0;32m/Users/julia/anaconda/lib/python3.6/site-packages/hcga-1.0-py3.6.egg/hcga/utils.py\u001b[0m in \u001b[0;36mread_graphfile\u001b[0;34m(datadir, dataname, max_nodes)\u001b[0m\n\u001b[1;32m     16\u001b[0m     \u001b[0;31m# index of graphs that a given node belongs to\u001b[0m\u001b[0;34m\u001b[0m\u001b[0;34m\u001b[0m\u001b[0;34m\u001b[0m\u001b[0m\n\u001b[1;32m     17\u001b[0m     \u001b[0mgraph_indic\u001b[0m\u001b[0;34m=\u001b[0m\u001b[0;34m{\u001b[0m\u001b[0;34m}\u001b[0m\u001b[0;34m\u001b[0m\u001b[0;34m\u001b[0m\u001b[0m\n\u001b[0;32m---> 18\u001b[0;31m     \u001b[0;32mwith\u001b[0m \u001b[0mopen\u001b[0m\u001b[0;34m(\u001b[0m\u001b[0mfilename_graph_indic\u001b[0m\u001b[0;34m)\u001b[0m \u001b[0;32mas\u001b[0m \u001b[0mf\u001b[0m\u001b[0;34m:\u001b[0m\u001b[0;34m\u001b[0m\u001b[0;34m\u001b[0m\u001b[0m\n\u001b[0m\u001b[1;32m     19\u001b[0m         \u001b[0mi\u001b[0m\u001b[0;34m=\u001b[0m\u001b[0;36m1\u001b[0m\u001b[0;34m\u001b[0m\u001b[0;34m\u001b[0m\u001b[0m\n\u001b[1;32m     20\u001b[0m         \u001b[0;32mfor\u001b[0m \u001b[0mline\u001b[0m \u001b[0;32min\u001b[0m \u001b[0mf\u001b[0m\u001b[0;34m:\u001b[0m\u001b[0;34m\u001b[0m\u001b[0;34m\u001b[0m\u001b[0m\n",
      "\u001b[0;31mFileNotFoundError\u001b[0m: [Errno 2] No such file or directory: 'TestData/ENZYMES/ENZYMES_graph_indicator.txt'"
     ]
    }
   ],
   "source": [
    "from hcga.graphs import Graphs\n",
    "\n",
    "graphs_obj = Graphs()"
   ]
  },
  {
   "cell_type": "code",
   "execution_count": 14,
   "metadata": {},
   "outputs": [
    {
     "data": {
      "text/plain": [
       "array([0.35549144, 0.26595992, 0.3171925 , 0.21117972, 0.07596882,\n",
       "       0.07948305, 0.07948305, 0.17095975, 0.22740391, 0.10267425,\n",
       "       0.07596882, 0.0528557 , 0.08425463, 0.22647272, 0.10140326,\n",
       "       0.10140326, 0.02363563, 0.09239954, 0.10140326, 0.14791251,\n",
       "       0.10140326, 0.09239954, 0.10140326, 0.15011857, 0.05705244,\n",
       "       0.05920647, 0.07557941, 0.13347715, 0.13107782, 0.13496082,\n",
       "       0.1747583 , 0.19103384, 0.30864422, 0.37336347])"
      ]
     },
     "execution_count": 14,
     "metadata": {},
     "output_type": "execute_result"
    }
   ],
   "source": [
    "        # extract the precomputed eigenvectors from the operations object\n",
    "import scipy as sp\n",
    "eigenvector = Opobj.eigenvectors[:,0]\n",
    "largest = eigenvector.flatten().real\n",
    "eigenvector_centrality = sp.sign(largest.sum()) * sp.linalg.norm(largest)\n",
    "largest"
   ]
  },
  {
   "cell_type": "code",
   "execution_count": null,
   "metadata": {
    "collapsed": true
   },
   "outputs": [],
   "source": []
  },
  {
   "cell_type": "code",
   "execution_count": 10,
   "metadata": {
    "collapsed": true
   },
   "outputs": [],
   "source": [
    "import yaml\n",
    "\n",
    "with open(\"operations.yaml\", 'r') as stream:\n",
    "    operations_dict = yaml.load(stream)"
   ]
  },
  {
   "cell_type": "code",
   "execution_count": 11,
   "metadata": {},
   "outputs": [
    {
     "data": {
      "text/plain": [
       "['num_nodes', 'num_edges', 'degree_mean', 'degree_median', 'degree_std']"
      ]
     },
     "execution_count": 11,
     "metadata": {},
     "output_type": "execute_result"
    }
   ],
   "source": [
    "from importlib import import_module\n",
    "\n",
    "operation = operations_dict['BasicStats']\n",
    "main_params = ['filename','classname','shortname','keywords']\n",
    "filename = operation[main_params[0]]\n",
    "classname = operation[main_params[1]]\n",
    "cls = getattr(import_module(filename), classname)\n",
    "cls = cls(G)\n",
    "cls.feature_extraction()\n",
    "cls.features\n",
    "cls.feature_names"
   ]
  },
  {
   "cell_type": "markdown",
   "metadata": {},
   "source": [
    "\n"
   ]
  },
  {
   "cell_type": "code",
   "execution_count": 12,
   "metadata": {},
   "outputs": [
    {
     "name": "stdout",
     "output_type": "stream",
     "text": [
      "basic_stats\n",
      "triangles\n",
      "centrality_degree\n",
      "centrality_degree\n",
      "centrality_degree\n"
     ]
    }
   ],
   "source": [
    "\n",
    "\n",
    "\n",
    "feature_names = []\n",
    "features = []\n",
    "\n",
    "        # loop over the feature classes defined in the YAML file\n",
    "for i, key in enumerate(operations_dict.keys()):\n",
    "    operation = operations_dict[key]\n",
    "\n",
    "    #Extract the filename and class name\n",
    "    main_params = ['filename','classname','shortname','keywords']\n",
    "    filename = operation[main_params[0]]\n",
    "    classname = operation[main_params[1]]\n",
    "    symbolic_name = operation[main_params[2]]\n",
    "    keywords = operation[main_params[3]]\n",
    "\n",
    "    # Extracting all additional arguments if they exist\n",
    "    params = []\n",
    "    args = list(operation.keys() - main_params)\n",
    "    for arg in args:\n",
    "        params.append(operation[arg])\n",
    "\n",
    "    print(filename)\n",
    "    # import the class from the file\n",
    "    feature_obj = getattr(import_module(filename), classname)\n",
    "    feature_obj = feature_obj(G)\n",
    "    \n",
    "    if not params:\n",
    "        feature_obj.feature_extraction()\n",
    "    else: \n",
    "        feature_obj.feature_extraction(params)\n",
    "    \n",
    "    \n",
    "    # Alter the feature feature_names\n",
    "    f_names = feature_obj.feature_names\n",
    "    f_names_updated = [symbolic_name + f_name for f_name in f_names]\n",
    "\n",
    "    # Append the altered feature names and the feature list of values\n",
    "    feature_names.append(f_names_updated)\n",
    "    features.append(feature_obj.features)\n"
   ]
  },
  {
   "cell_type": "code",
   "execution_count": 20,
   "metadata": {},
   "outputs": [
    {
     "data": {
      "text/plain": [
       "[50, 45]"
      ]
     },
     "execution_count": 20,
     "metadata": {},
     "output_type": "execute_result"
    }
   ],
   "source": [
    "params"
   ]
  },
  {
   "cell_type": "code",
   "execution_count": 4,
   "metadata": {},
   "outputs": [
    {
     "data": {
      "text/plain": [
       "<networkx.classes.graph.Graph at 0x7f1c88120a20>"
      ]
     },
     "execution_count": 4,
     "metadata": {},
     "output_type": "execute_result"
    }
   ],
   "source": []
  },
  {
   "cell_type": "code",
   "execution_count": 5,
   "metadata": {
    "collapsed": true
   },
   "outputs": [],
   "source": []
  },
  {
   "cell_type": "code",
   "execution_count": 7,
   "metadata": {},
   "outputs": [
    {
     "data": {
      "text/plain": [
       "[['BS_num_nodes',\n",
       "  'BS_num_edges',\n",
       "  'BS_degree_mean',\n",
       "  'BS_degree_median',\n",
       "  'BS_degree_std'],\n",
       " ['TS_num_triangles',\n",
       "  'TS_transitivity',\n",
       "  'TS_clustering_mean',\n",
       "  'TS_clustering_std',\n",
       "  'TS_clustering_median',\n",
       "  'TS_square_clustering_mean',\n",
       "  'TS_square_clustering_std',\n",
       "  'TS_square_clustering_median'],\n",
       " ['mean_10', 'std_10', 'opt_model_10', 'powerlaw_a_10', 'powerlaw_SSE_10'],\n",
       " ['mean_20', 'std_20', 'opt_model_20', 'powerlaw_a_20', 'powerlaw_SSE_20'],\n",
       " ['mean_50', 'std_50', 'opt_model_50', 'powerlaw_a_50', 'powerlaw_SSE_50']]"
      ]
     },
     "execution_count": 7,
     "metadata": {},
     "output_type": "execute_result"
    }
   ],
   "source": [
    "Opobj.feature_names"
   ]
  },
  {
   "cell_type": "code",
   "execution_count": null,
   "metadata": {
    "collapsed": true
   },
   "outputs": [],
   "source": []
  }
 ],
 "metadata": {
  "kernelspec": {
   "display_name": "Python 3",
   "language": "python",
   "name": "python3"
  },
  "language_info": {
   "codemirror_mode": {
    "name": "ipython",
    "version": 3
   },
   "file_extension": ".py",
   "mimetype": "text/x-python",
   "name": "python",
   "nbconvert_exporter": "python",
   "pygments_lexer": "ipython3",
   "version": "3.6.8"
  }
 },
 "nbformat": 4,
 "nbformat_minor": 2
}
