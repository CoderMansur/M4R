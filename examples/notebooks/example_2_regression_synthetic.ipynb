{
 "cells": [
  {
   "cell_type": "markdown",
   "metadata": {},
   "source": [
    "# Example 2: Regression with Synthetic data\n"
   ]
  },
  {
   "cell_type": "code",
   "execution_count": 1,
   "metadata": {},
   "outputs": [],
   "source": [
    "import numpy as np\n",
    "import networkx as nx\n",
    "import pandas as pd\n",
    "import scipy as sc"
   ]
  },
  {
   "cell_type": "code",
   "execution_count": 2,
   "metadata": {},
   "outputs": [],
   "source": [
    "# this cell is generating some synthetic graph dataset with node features. \n",
    "\n",
    "\n",
    "#defining limits on number of nodes\n",
    "n_min = 20\n",
    "n_max = 50\n",
    "\n",
    "#number of graphs\n",
    "num_g = 50 \n",
    "\n",
    "# number of node features - in this example I will generate random node features that aren't useful for classifcation\n",
    "n_nf = 3\n",
    "\n",
    "\n",
    "# empty list of graphs and labels\n",
    "graphs = []\n",
    "labels = []\n",
    "node_features = []\n",
    "\n",
    "\n",
    "# setting limits on probability of edge existing for random graphs\n",
    "p_min = 0.05\n",
    "p_max = 0.9\n",
    "\n",
    "# adding 50 random graphs and adding the label corresponding to probability of edge existing\n",
    "for i in range(num_g):\n",
    "    rand_n = np.random.randint(n_min,n_max)\n",
    "    rand_p = np.random.randint(int(p_min*100),int(p_max*100))/100   \n",
    "    \n",
    "    g = nx.fast_gnp_random_graph(rand_n,rand_p)    \n",
    "    node_feat_matrix = np.random.random((rand_n,n_nf))\n",
    "    \n",
    "    graphs.append(nx.to_numpy_array(g))\n",
    "    node_features.append(node_feat_matrix)\n",
    "    \n",
    "    labels.append(rand_p)\n"
   ]
  },
  {
   "cell_type": "code",
   "execution_count": 3,
   "metadata": {},
   "outputs": [],
   "source": [
    "# converting this data into the format required for hcga\n",
    "\n",
    "from hcga.graph import Graph, GraphCollection\n",
    "\n",
    "# create graph collection object\n",
    "g_c = GraphCollection()\n",
    "\n",
    "# add graphs, node features and labels to the object\n",
    "g_c.add_graph_list(graphs,node_features,labels)"
   ]
  },
  {
   "cell_type": "code",
   "execution_count": 4,
   "metadata": {},
   "outputs": [
    {
     "name": "stdout",
     "output_type": "stream",
     "text": [
      "There are 50 graphs\n",
      "There are 3 features per node\n"
     ]
    }
   ],
   "source": [
    "# perform some sanity checks\n",
    "\n",
    "print('There are {} graphs'.format(len(g_c.graphs)))\n",
    "print('There are {} features per node'.format(g_c.get_n_node_features()))\n"
   ]
  },
  {
   "cell_type": "code",
   "execution_count": 5,
   "metadata": {},
   "outputs": [],
   "source": [
    "# we can save this if we want to and run everything from the command line\n",
    "from hcga.io import save_dataset\n",
    "\n",
    "save_dataset(g_c, 'custom_dataset_regression', folder='./datasets/custom_dataset_regression')"
   ]
  },
  {
   "cell_type": "markdown",
   "metadata": {},
   "source": [
    "# Extracting features\n",
    "\n",
    "We have now produced a pickle dataset of your own custom data. We can now run the feature extraction from the command line using the following commands:\n",
    "\n",
    "hcga extract_features ./datasets/custom_dataset.pkl -m fast -n 4 -sl advanced --timeout 10 \n",
    "\n",
    "\n",
    "Alternatively,we could import the Hcga class and run the feature extraction and analysis from within the notebook. We will do this below."
   ]
  },
  {
   "cell_type": "code",
   "execution_count": 6,
   "metadata": {},
   "outputs": [],
   "source": [
    "from hcga.io import load_dataset\n",
    "\n",
    "graphs = load_dataset('./datasets/custom_dataset_regression/custom_dataset_regression.pkl')"
   ]
  },
  {
   "cell_type": "code",
   "execution_count": 7,
   "metadata": {},
   "outputs": [],
   "source": [
    "#import hcga object\n",
    "from hcga.hcga import Hcga\n",
    "\n",
    "# define an object\n",
    "h = Hcga()\n",
    "\n",
    "#assigning the graphs field to the recently created dataset\n",
    "h.graphs = graphs"
   ]
  },
  {
   "cell_type": "code",
   "execution_count": 8,
   "metadata": {
    "scrolled": true
   },
   "outputs": [
    {
     "name": "stderr",
     "output_type": "stream",
     "text": [
      "INFO:hcga.extraction:Extracting features from 50 graphs (we disabled 0 graphs).\n",
      "INFO:hcga.extraction:Computing features for 50 graphs:\n",
      "[Parallel(n_jobs=4)]: Using backend LokyBackend with 4 concurrent workers.\n",
      "[Parallel(n_jobs=4)]: Done   5 tasks      | elapsed:    7.1s\n",
      "[Parallel(n_jobs=4)]: Done  10 tasks      | elapsed:   17.4s\n",
      "[Parallel(n_jobs=4)]: Done  17 tasks      | elapsed:   24.5s\n",
      "[Parallel(n_jobs=4)]: Done  24 tasks      | elapsed:   31.9s\n",
      "[Parallel(n_jobs=4)]: Done  33 tasks      | elapsed:   38.0s\n",
      "[Parallel(n_jobs=4)]: Done  42 tasks      | elapsed:   55.6s\n",
      "[Parallel(n_jobs=4)]: Done  50 out of  50 | elapsed:  1.2min finished\n",
      "INFO:hcga.extraction:1093 feature extracted.\n"
     ]
    }
   ],
   "source": [
    "# extracting all features here\n",
    "h.extract(mode='fast',n_workers=4,timeout=20)\n",
    "\n"
   ]
  },
  {
   "cell_type": "code",
   "execution_count": 9,
   "metadata": {},
   "outputs": [],
   "source": [
    "# saving all features into a pickle\n",
    "h.save_features('./results/custom_dataset_regression/all_features.pkl')\n"
   ]
  },
  {
   "cell_type": "markdown",
   "metadata": {},
   "source": [
    "# Analysis"
   ]
  },
  {
   "cell_type": "code",
   "execution_count": 10,
   "metadata": {},
   "outputs": [],
   "source": [
    "# load the saved features\n",
    "\n",
    "h.load_features('./results/custom_dataset_regression/all_features.pkl')"
   ]
  },
  {
   "cell_type": "code",
   "execution_count": 11,
   "metadata": {},
   "outputs": [
    {
     "name": "stderr",
     "output_type": "stream",
     "text": [
      "INFO:numexpr.utils:Note: NumExpr detected 12 cores but \"NUMEXPR_MAX_THREADS\" not set, so enforcing safe limit of 8.\n",
      "INFO:numexpr.utils:NumExpr defaulting to 8 threads.\n",
      "INFO:hcga.analysis:... Using Xgboost regressor ...\n",
      "INFO:hcga.analysis:1093 total features\n",
      "INFO:hcga.analysis:0 graphs were removed for more than 0.3 fraction of bad features\n",
      "INFO:hcga.analysis:1001 valid features\n",
      "INFO:hcga.analysis:1001 with interpretability 1\n",
      "INFO:hcga.analysis:Counts of graphs/label: \n",
      "0.74    3\n",
      "0.60    2\n",
      "0.81    2\n",
      "0.11    2\n",
      "0.87    2\n",
      "0.68    2\n",
      "0.26    2\n",
      "0.69    1\n",
      "0.59    1\n",
      "0.57    1\n",
      "0.17    1\n",
      "0.48    1\n",
      "0.88    1\n",
      "0.76    1\n",
      "0.58    1\n",
      "0.84    1\n",
      "0.24    1\n",
      "0.30    1\n",
      "0.19    1\n",
      "0.49    1\n",
      "0.52    1\n",
      "0.63    1\n",
      "0.56    1\n",
      "0.15    1\n",
      "0.53    1\n",
      "0.75    1\n",
      "0.41    1\n",
      "0.29    1\n",
      "0.31    1\n",
      "0.32    1\n",
      "0.09    1\n",
      "0.40    1\n",
      "0.35    1\n",
      "0.37    1\n",
      "0.83    1\n",
      "0.73    1\n",
      "0.45    1\n",
      "0.10    1\n",
      "0.07    1\n",
      "0.42    1\n",
      "0.67    1\n",
      "0.27    1\n",
      "Name: label, dtype: int64\n",
      "INFO:hcga.analysis:Using 2 splits\n",
      "INFO:hcga.analysis:Mean Absolute Error: --- 0.07 ---\n",
      "INFO:hcga.analysis:Mean Absolute Error: --- 0.036 ---\n",
      "INFO:hcga.analysis:Mean absolute error: 0.053 +/- 0.017\n",
      "INFO:hcga.analysis:Now using a reduced set of 100 features with < 0.9 correlation.\n",
      "INFO:hcga.analysis:Mean Absolute Error: --- 0.03 ---\n",
      "INFO:hcga.analysis:Mean Absolute Error: --- 0.038 ---\n",
      "INFO:hcga.analysis:Mean Absolute Error with reduced set: 0.034 +/- 0.004\n",
      "INFO:hcga.plotting:Using reduced features for plotting.\n",
      "INFO:hcga.plotting:Plot bar ranking\n",
      "INFO:hcga.plotting:Plot dot summary\n",
      "INFO:hcga.plotting:Plot feature correlations\n",
      "INFO:hcga.plotting:Plot dendrogram\n",
      "INFO:hcga.plotting:Plot trend\n",
      "INFO:hcga.plotting:Plot feature summaries\n"
     ]
    }
   ],
   "source": [
    "# implement a classification analyse of the features\n",
    "h.analyse_features(feature_file='./results/custom_dataset_regression/all_features.pkl',\n",
    "                   analysis_type='regression',\n",
    "                   results_folder='./results/custom_dataset_regression')\n"
   ]
  },
  {
   "cell_type": "code",
   "execution_count": null,
   "metadata": {},
   "outputs": [],
   "source": []
  }
 ],
 "metadata": {
  "kernelspec": {
   "display_name": "Python 3",
   "language": "python",
   "name": "python3"
  },
  "language_info": {
   "codemirror_mode": {
    "name": "ipython",
    "version": 3
   },
   "file_extension": ".py",
   "mimetype": "text/x-python",
   "name": "python",
   "nbconvert_exporter": "python",
   "pygments_lexer": "ipython3",
   "version": "3.7.7"
  }
 },
 "nbformat": 4,
 "nbformat_minor": 4
}
