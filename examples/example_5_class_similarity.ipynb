{
 "cells": [
  {
   "cell_type": "markdown",
   "metadata": {},
   "source": [
    "# Example 5: Exploring the similarity between classes\n",
    "\n",
    "Here, we provide an example in which we construct three classes of graphs. We then compare each class pairwise to identify which classes are similar to each other. \n"
   ]
  },
  {
   "cell_type": "code",
   "execution_count": 13,
   "metadata": {},
   "outputs": [],
   "source": [
    "import numpy as np\n",
    "import networkx as nx\n",
    "import pandas as pd\n",
    "import scipy as sc\n",
    "import matplotlib.pyplot as plt\n",
    "import seaborn as sns\n",
    "\n",
    "%matplotlib inline\n"
   ]
  },
  {
   "cell_type": "markdown",
   "metadata": {},
   "source": [
    "## Parameters for constructing synthetic data"
   ]
  },
  {
   "cell_type": "code",
   "execution_count": 2,
   "metadata": {},
   "outputs": [],
   "source": [
    "\n",
    "#defining limits on number of nodes\n",
    "n_min = 20\n",
    "n_max = 50\n",
    "\n",
    "#number of graphs\n",
    "num_g = 50\n",
    "\n",
    "# number of node features - in this example I will generate random node features that aren't useful for classifcation\n",
    "n_nf = 3\n",
    "\n",
    "# empty list of graphs and labels\n",
    "graphs = []\n",
    "labels = []\n",
    "node_features = []\n",
    "\n",
    "# setting limits on probability of edge existing for random graphs\n",
    "p_min = 0.1\n",
    "p_max = 0.5\n",
    "\n",
    "# setting limits on number of edges to add per node\n",
    "m_min = 3\n",
    "m_max = 6"
   ]
  },
  {
   "cell_type": "markdown",
   "metadata": {},
   "source": [
    "## Create data for class 0"
   ]
  },
  {
   "cell_type": "code",
   "execution_count": 3,
   "metadata": {},
   "outputs": [],
   "source": [
    "\n",
    "# adding 50 random graphs (label 0)\n",
    "for i in range(num_g):\n",
    "    rand_n = np.random.randint(n_min,n_max)\n",
    "    rand_p = np.random.randint(int(p_min*100),int(p_max*100))/100   \n",
    "    \n",
    "    g = nx.fast_gnp_random_graph(rand_n,rand_p)    \n",
    "    node_feat_matrix = np.random.random((rand_n,n_nf))\n",
    "    \n",
    "    graphs.append(g)\n",
    "    node_features.append(node_feat_matrix)\n",
    "    \n",
    "    labels.append(0)"
   ]
  },
  {
   "cell_type": "markdown",
   "metadata": {},
   "source": [
    "## Create data for class 1"
   ]
  },
  {
   "cell_type": "code",
   "execution_count": 4,
   "metadata": {},
   "outputs": [],
   "source": [
    "# adding 50  powerlaw cluster graphs (label 1)\n",
    "for i in range(num_g):\n",
    "    rand_n = np.random.randint(n_min,n_max)\n",
    "    rand_p = np.random.randint(int(p_min*100),int(p_max*100))/100   \n",
    "    rand_m = np.random.randint(m_min,m_max)\n",
    "    \n",
    "    g = nx.powerlaw_cluster_graph(rand_n, rand_m, rand_p)\n",
    "    node_feat_matrix = np.random.random((rand_n,n_nf))\n",
    "    \n",
    "    graphs.append(g)\n",
    "    node_features.append(node_feat_matrix)\n",
    "\n",
    "    labels.append(1)"
   ]
  },
  {
   "cell_type": "markdown",
   "metadata": {},
   "source": [
    "## Create data for class 2"
   ]
  },
  {
   "cell_type": "code",
   "execution_count": 5,
   "metadata": {},
   "outputs": [],
   "source": [
    "# adding 50 watts strogatz graphs (label 2)\n",
    "for i in range(num_g):\n",
    "    rand_n = np.random.randint(n_min,n_max)\n",
    "    rand_p = np.random.randint(int(p_min*100),int(p_max*100))/100   \n",
    "    rand_m = np.random.randint(m_min,m_max)\n",
    "    \n",
    "    g =  nx.watts_strogatz_graph(rand_n, rand_m, rand_p)\n",
    "    node_feat_matrix = np.random.random((rand_n,n_nf))\n",
    "    \n",
    "    graphs.append(g)\n",
    "    node_features.append(node_feat_matrix)\n",
    "\n",
    "    labels.append(2)"
   ]
  },
  {
   "cell_type": "markdown",
   "metadata": {},
   "source": [
    "# Load graphs into graph object\n",
    "\n",
    "We now have three lists of length 100. The graphs list is composed of numpy arrays that represent the adjacency matrix of the graph. The node features list is composed of numpy arrays that contain the node information for each graph. The labels list is a list of integers that corresponds to the class label for each graph.\n",
    "\n",
    "The next step is to take this data and convert it into an appropriate format for hcga."
   ]
  },
  {
   "cell_type": "code",
   "execution_count": 7,
   "metadata": {},
   "outputs": [],
   "source": [
    "# converting this data into the format required for hcga\n",
    "\n",
    "from hcga.graph import Graph, GraphCollection\n",
    "\n",
    "# create graph collection object\n",
    "g_c = GraphCollection()\n",
    "\n",
    "# add graphs, node features and labels to the object\n",
    "g_c.add_graph_list(graphs,node_features,labels)"
   ]
  },
  {
   "cell_type": "code",
   "execution_count": 8,
   "metadata": {},
   "outputs": [
    {
     "name": "stdout",
     "output_type": "stream",
     "text": [
      "There are 150 graphs\n",
      "There are 3 features per node\n"
     ]
    }
   ],
   "source": [
    "# perform some sanity checks\n",
    "\n",
    "print('There are {} graphs'.format(len(g_c.graphs)))\n",
    "print('There are {} features per node'.format(g_c.get_n_node_features()))\n"
   ]
  },
  {
   "cell_type": "code",
   "execution_count": 9,
   "metadata": {},
   "outputs": [],
   "source": [
    "# we can save this if we want to and run everything from the command line\n",
    "from hcga.io import save_dataset\n",
    "\n",
    "save_dataset(g_c, 'custom_dataset_multilabel_similarity', folder='./datasets/custom_multilabel_similarity')\n"
   ]
  },
  {
   "cell_type": "markdown",
   "metadata": {},
   "source": [
    "# Extracting features\n"
   ]
  },
  {
   "cell_type": "code",
   "execution_count": 2,
   "metadata": {},
   "outputs": [],
   "source": [
    "#import hcga object\n",
    "from hcga.hcga import Hcga\n",
    "\n",
    "# define an object\n",
    "h = Hcga()"
   ]
  },
  {
   "cell_type": "code",
   "execution_count": 10,
   "metadata": {},
   "outputs": [],
   "source": [
    "# load previously saved dataset\n",
    "h.load_data('./datasets/custom_multilabel_similarity/custom_dataset_multilabel_similarity.pkl')"
   ]
  },
  {
   "cell_type": "code",
   "execution_count": 11,
   "metadata": {
    "scrolled": true
   },
   "outputs": [
    {
     "name": "stderr",
     "output_type": "stream",
     "text": [
      "INFO:hcga.extraction:Extracting features from 150 graphs (we disabled 0 graphs).\n",
      "INFO:hcga.extraction:Computing features for 150 graphs:\n",
      "[Parallel(n_jobs=4)]: Using backend LokyBackend with 4 concurrent workers.\n",
      "[Parallel(n_jobs=4)]: Done   5 tasks      | elapsed:   11.4s\n",
      "[Parallel(n_jobs=4)]: Done  10 tasks      | elapsed:   14.7s\n",
      "[Parallel(n_jobs=4)]: Done  17 tasks      | elapsed:   20.7s\n",
      "[Parallel(n_jobs=4)]: Done  24 tasks      | elapsed:   25.0s\n",
      "[Parallel(n_jobs=4)]: Done  33 tasks      | elapsed:   31.1s\n",
      "[Parallel(n_jobs=4)]: Done  42 tasks      | elapsed:   39.1s\n",
      "[Parallel(n_jobs=4)]: Done  53 tasks      | elapsed:   46.8s\n",
      "[Parallel(n_jobs=4)]: Done  64 tasks      | elapsed:   54.8s\n",
      "[Parallel(n_jobs=4)]: Done  77 tasks      | elapsed:  1.1min\n",
      "[Parallel(n_jobs=4)]: Done  90 tasks      | elapsed:  1.2min\n",
      "[Parallel(n_jobs=4)]: Done 105 tasks      | elapsed:  1.4min\n",
      "[Parallel(n_jobs=4)]: Done 120 tasks      | elapsed:  1.5min\n",
      "[Parallel(n_jobs=4)]: Done 137 tasks      | elapsed:  1.7min\n",
      "[Parallel(n_jobs=4)]: Done 150 out of 150 | elapsed:  1.8min finished\n",
      "INFO:hcga.extraction:1096 feature extracted.\n"
     ]
    }
   ],
   "source": [
    "# extracting all features here\n",
    "h.extract(mode='fast', n_workers=4, timeout=5)\n",
    "\n",
    "# saving all features into a pickle\n",
    "h.save_features('./results/custom_multilabel_similarity/all_features.pkl')\n"
   ]
  },
  {
   "cell_type": "markdown",
   "metadata": {},
   "source": [
    "# Analysis"
   ]
  },
  {
   "cell_type": "code",
   "execution_count": 3,
   "metadata": {},
   "outputs": [],
   "source": [
    "# load the saved features\n",
    "\n",
    "h.load_features('./results/custom_multilabel_similarity/all_features.pkl')"
   ]
  },
  {
   "cell_type": "code",
   "execution_count": 13,
   "metadata": {},
   "outputs": [
    {
     "name": "stderr",
     "output_type": "stream",
     "text": [
      "INFO:numexpr.utils:Note: NumExpr detected 12 cores but \"NUMEXPR_MAX_THREADS\" not set, so enforcing safe limit of 8.\n",
      "INFO:numexpr.utils:NumExpr defaulting to 8 threads.\n",
      "INFO:hcga.analysis:... Using Xgboost classifier ...\n",
      "INFO:hcga.analysis:1096 total features\n",
      "INFO:hcga.analysis:0 graphs were removed for more than 0.3 fraction of bad features\n",
      "INFO:hcga.analysis:1027 valid features\n",
      "INFO:hcga.analysis:1027 with interpretability 1\n",
      "INFO:hcga.analysis:Counts of graphs/label: \n",
      "0.0    50\n",
      "2.0    50\n",
      "1.0    50\n",
      "Name: label, dtype: int64\n",
      "INFO:hcga.analysis:Using 10 splits\n",
      "INFO:hcga.analysis:Fold accuracy: --- 0.933 ---\n",
      "INFO:hcga.analysis:Fold accuracy: --- 0.933 ---\n",
      "INFO:hcga.analysis:Fold accuracy: --- 0.933 ---\n",
      "INFO:hcga.analysis:Fold accuracy: --- 1.0 ---\n",
      "INFO:hcga.analysis:Fold accuracy: --- 1.0 ---\n",
      "INFO:hcga.analysis:Fold accuracy: --- 1.0 ---\n",
      "INFO:hcga.analysis:Fold accuracy: --- 1.0 ---\n",
      "INFO:hcga.analysis:Fold accuracy: --- 1.0 ---\n",
      "INFO:hcga.analysis:Fold accuracy: --- 1.0 ---\n",
      "INFO:hcga.analysis:Fold accuracy: --- 1.0 ---\n",
      "INFO:hcga.analysis:Accuracy: 0.98 +/- 0.031\n",
      "INFO:hcga.analysis:Now using a reduced set of 100 features with < 0.9 correlation.\n",
      "INFO:hcga.analysis:Fold accuracy: --- 0.933 ---\n",
      "INFO:hcga.analysis:Fold accuracy: --- 0.933 ---\n",
      "INFO:hcga.analysis:Fold accuracy: --- 0.933 ---\n",
      "INFO:hcga.analysis:Fold accuracy: --- 1.0 ---\n",
      "INFO:hcga.analysis:Fold accuracy: --- 0.933 ---\n",
      "INFO:hcga.analysis:Fold accuracy: --- 1.0 ---\n",
      "INFO:hcga.analysis:Fold accuracy: --- 1.0 ---\n",
      "INFO:hcga.analysis:Fold accuracy: --- 1.0 ---\n",
      "INFO:hcga.analysis:Fold accuracy: --- 1.0 ---\n",
      "INFO:hcga.analysis:Fold accuracy: --- 1.0 ---\n",
      "INFO:hcga.analysis:Accuracy with reduced set: 0.973 +/- 0.033\n",
      "INFO:hcga.plotting:Using reduced features for plotting.\n",
      "INFO:hcga.plotting:Plot bar ranking\n",
      "INFO:hcga.plotting:Plot dot summary\n",
      "INFO:hcga.plotting:Plot feature correlations\n",
      "INFO:hcga.plotting:Plot dendrogram\n",
      "INFO:hcga.plotting:Plot shap violin\n",
      "INFO:hcga.plotting:Plot feature summaries\n"
     ]
    }
   ],
   "source": [
    "# implement a classification analyse of the features\n",
    "\n",
    "h.analyse_features(feature_file='./results/custom_multilabel_similarity/all_features.pkl',results_folder='./results/custom_multilabel_similarity')\n"
   ]
  },
  {
   "cell_type": "markdown",
   "metadata": {},
   "source": [
    "# Pairwise classification"
   ]
  },
  {
   "cell_type": "code",
   "execution_count": 4,
   "metadata": {},
   "outputs": [
    {
     "name": "stderr",
     "output_type": "stream",
     "text": [
      "INFO:hcga.analysis:1096 total features\n",
      "INFO:numexpr.utils:Note: NumExpr detected 12 cores but \"NUMEXPR_MAX_THREADS\" not set, so enforcing safe limit of 8.\n",
      "INFO:numexpr.utils:NumExpr defaulting to 8 threads.\n",
      "INFO:hcga.analysis:0 graphs were removed for more than 0.3 fraction of bad features\n",
      "INFO:hcga.analysis:1027 valid features\n",
      "INFO:hcga.analysis:1027 with interpretability 1\n",
      "INFO:hcga.analysis:... Using Xgboost classifier ...\n",
      "  0%|          | 0/3 [00:00<?, ?it/s]INFO:hcga.analysis:Counts of graphs/label: \n",
      "0.0    50\n",
      "1.0    50\n",
      "Name: label, dtype: int64\n",
      "INFO:hcga.analysis:Using 10 splits\n",
      "INFO:hcga.analysis:Fold accuracy: --- 0.9 ---\n",
      "INFO:hcga.analysis:Fold accuracy: --- 0.9 ---\n",
      "INFO:hcga.analysis:Fold accuracy: --- 0.8 ---\n",
      "INFO:hcga.analysis:Fold accuracy: --- 1.0 ---\n",
      "INFO:hcga.analysis:Fold accuracy: --- 0.9 ---\n",
      "INFO:hcga.analysis:Fold accuracy: --- 1.0 ---\n",
      "INFO:hcga.analysis:Fold accuracy: --- 1.0 ---\n",
      "INFO:hcga.analysis:Fold accuracy: --- 1.0 ---\n",
      "INFO:hcga.analysis:Fold accuracy: --- 0.8 ---\n",
      "INFO:hcga.analysis:Fold accuracy: --- 1.0 ---\n",
      "INFO:hcga.analysis:Accuracy: 0.93 +/- 0.078\n",
      " 33%|███▎      | 1/3 [00:07<00:15,  7.66s/it]INFO:hcga.analysis:Counts of graphs/label: \n",
      "0.0    50\n",
      "2.0    50\n",
      "Name: label, dtype: int64\n",
      "INFO:hcga.analysis:Using 10 splits\n",
      "INFO:hcga.analysis:Fold accuracy: --- 1.0 ---\n",
      "INFO:hcga.analysis:Fold accuracy: --- 1.0 ---\n",
      "INFO:hcga.analysis:Fold accuracy: --- 1.0 ---\n",
      "INFO:hcga.analysis:Fold accuracy: --- 1.0 ---\n",
      "INFO:hcga.analysis:Fold accuracy: --- 1.0 ---\n",
      "INFO:hcga.analysis:Fold accuracy: --- 1.0 ---\n",
      "INFO:hcga.analysis:Fold accuracy: --- 1.0 ---\n",
      "INFO:hcga.analysis:Fold accuracy: --- 1.0 ---\n",
      "INFO:hcga.analysis:Fold accuracy: --- 1.0 ---\n",
      "INFO:hcga.analysis:Fold accuracy: --- 1.0 ---\n",
      "INFO:hcga.analysis:Accuracy: 1.0 +/- 0.0\n",
      " 67%|██████▋   | 2/3 [00:12<00:06,  6.92s/it]INFO:hcga.analysis:Counts of graphs/label: \n",
      "2.0    50\n",
      "1.0    50\n",
      "Name: label, dtype: int64\n",
      "INFO:hcga.analysis:Using 10 splits\n",
      "INFO:hcga.analysis:Fold accuracy: --- 1.0 ---\n",
      "INFO:hcga.analysis:Fold accuracy: --- 1.0 ---\n",
      "INFO:hcga.analysis:Fold accuracy: --- 1.0 ---\n",
      "INFO:hcga.analysis:Fold accuracy: --- 1.0 ---\n",
      "INFO:hcga.analysis:Fold accuracy: --- 1.0 ---\n",
      "INFO:hcga.analysis:Fold accuracy: --- 0.9 ---\n",
      "INFO:hcga.analysis:Fold accuracy: --- 1.0 ---\n",
      "INFO:hcga.analysis:Fold accuracy: --- 1.0 ---\n",
      "INFO:hcga.analysis:Fold accuracy: --- 1.0 ---\n",
      "INFO:hcga.analysis:Fold accuracy: --- 1.0 ---\n",
      "INFO:hcga.analysis:Accuracy: 0.99 +/- 0.03\n",
      "100%|██████████| 3/3 [00:18<00:00,  6.25s/it]\n"
     ]
    }
   ],
   "source": [
    "accuracy_matrix, top_features = h.pairwise_classification(feature_file='./results/custom_multilabel_similarity/all_features.pkl')"
   ]
  },
  {
   "cell_type": "code",
   "execution_count": 14,
   "metadata": {},
   "outputs": [
    {
     "data": {
      "image/png": "[encoded data removed]",
      "text/plain": [
       "<Figure size 432x288 with 2 Axes>"
      ]
     },
     "metadata": {
      "needs_background": "light"
     },
     "output_type": "display_data"
    }
   ],
   "source": [
    "sns.heatmap(accuracy_matrix)\n",
    "plt.show()"
   ]
  },
  {
   "cell_type": "code",
   "execution_count": 15,
   "metadata": {},
   "outputs": [
    {
     "name": "stdout",
     "output_type": "stream",
     "text": [
      "['CB_closeness centrality_std', 'CB_katz centrality_max', 'CoN_core number_std', 'AS_degree assortativity_std_N', 'AS_degree assortativity_sum_E']\n"
     ]
    }
   ],
   "source": [
    "# what are the top features for classifying between class 0 and class 1?\n",
    "print(top_features[(0.0, 1.0)])"
   ]
  }
 ],
 "metadata": {
  "kernelspec": {
   "display_name": "Python 3",
   "language": "python",
   "name": "python3"
  },
  "language_info": {
   "codemirror_mode": {
    "name": "ipython",
    "version": 3
   },
   "file_extension": ".py",
   "mimetype": "text/x-python",
   "name": "python",
   "nbconvert_exporter": "python",
   "pygments_lexer": "ipython3",
   "version": "3.7.7"
  }
 },
 "nbformat": 4,
 "nbformat_minor": 4
}
